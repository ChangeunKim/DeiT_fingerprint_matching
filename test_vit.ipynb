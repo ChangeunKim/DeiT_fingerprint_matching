{
  "cells": [
    {
      "cell_type": "code",
      "execution_count": null,
      "metadata": {
        "id": "5cCQExteXKcs",
        "colab": {
          "base_uri": "https://localhost:8080/"
        },
        "executionInfo": {
          "status": "ok",
          "timestamp": 1733399689277,
          "user_tz": -540,
          "elapsed": 27870,
          "user": {
            "displayName": "",
            "userId": ""
          }
        },
        "outputId": "4ea76c5f-ec72-464f-8094-6f318f4d54c7"
      },
      "outputs": [
        {
          "output_type": "stream",
          "name": "stdout",
          "text": [
            "Requirement already satisfied: pandas in /usr/local/lib/python3.10/dist-packages (2.2.2)\n",
            "Requirement already satisfied: numpy>=1.22.4 in /usr/local/lib/python3.10/dist-packages (from pandas) (1.26.4)\n",
            "Requirement already satisfied: python-dateutil>=2.8.2 in /usr/local/lib/python3.10/dist-packages (from pandas) (2.8.2)\n",
            "Requirement already satisfied: pytz>=2020.1 in /usr/local/lib/python3.10/dist-packages (from pandas) (2024.2)\n",
            "Requirement already satisfied: tzdata>=2022.7 in /usr/local/lib/python3.10/dist-packages (from pandas) (2024.2)\n",
            "Requirement already satisfied: six>=1.5 in /usr/local/lib/python3.10/dist-packages (from python-dateutil>=2.8.2->pandas) (1.16.0)\n",
            "Requirement already satisfied: pillow in /usr/local/lib/python3.10/dist-packages (10.4.0)\n",
            "Requirement already satisfied: kagglehub in /usr/local/lib/python3.10/dist-packages (0.3.3)\n",
            "Requirement already satisfied: packaging in /usr/local/lib/python3.10/dist-packages (from kagglehub) (24.1)\n",
            "Requirement already satisfied: requests in /usr/local/lib/python3.10/dist-packages (from kagglehub) (2.32.3)\n",
            "Requirement already satisfied: tqdm in /usr/local/lib/python3.10/dist-packages (from kagglehub) (4.66.5)\n",
            "Requirement already satisfied: charset-normalizer<4,>=2 in /usr/local/lib/python3.10/dist-packages (from requests->kagglehub) (3.4.0)\n",
            "Requirement already satisfied: idna<4,>=2.5 in /usr/local/lib/python3.10/dist-packages (from requests->kagglehub) (3.10)\n",
            "Requirement already satisfied: urllib3<3,>=1.21.1 in /usr/local/lib/python3.10/dist-packages (from requests->kagglehub) (2.2.3)\n",
            "Requirement already satisfied: certifi>=2017.4.17 in /usr/local/lib/python3.10/dist-packages (from requests->kagglehub) (2024.8.30)\n",
            "Requirement already satisfied: scikit-learn in /usr/local/lib/python3.10/dist-packages (1.5.2)\n",
            "Requirement already satisfied: numpy>=1.19.5 in /usr/local/lib/python3.10/dist-packages (from scikit-learn) (1.26.4)\n",
            "Requirement already satisfied: scipy>=1.6.0 in /usr/local/lib/python3.10/dist-packages (from scikit-learn) (1.13.1)\n",
            "Requirement already satisfied: joblib>=1.2.0 in /usr/local/lib/python3.10/dist-packages (from scikit-learn) (1.4.2)\n",
            "Requirement already satisfied: threadpoolctl>=3.1.0 in /usr/local/lib/python3.10/dist-packages (from scikit-learn) (3.5.0)\n",
            "Looking in indexes: https://download.pytorch.org/whl/cu124\n",
            "Requirement already satisfied: torch in /usr/local/lib/python3.10/dist-packages (2.5.0+cu121)\n",
            "Requirement already satisfied: torchvision in /usr/local/lib/python3.10/dist-packages (0.20.0+cu121)\n",
            "Requirement already satisfied: torchaudio in /usr/local/lib/python3.10/dist-packages (2.5.0+cu121)\n",
            "Requirement already satisfied: filelock in /usr/local/lib/python3.10/dist-packages (from torch) (3.16.1)\n",
            "Requirement already satisfied: typing-extensions>=4.8.0 in /usr/local/lib/python3.10/dist-packages (from torch) (4.12.2)\n",
            "Requirement already satisfied: networkx in /usr/local/lib/python3.10/dist-packages (from torch) (3.4.2)\n",
            "Requirement already satisfied: jinja2 in /usr/local/lib/python3.10/dist-packages (from torch) (3.1.4)\n",
            "Requirement already satisfied: fsspec in /usr/local/lib/python3.10/dist-packages (from torch) (2024.6.1)\n",
            "Requirement already satisfied: sympy==1.13.1 in /usr/local/lib/python3.10/dist-packages (from torch) (1.13.1)\n",
            "Requirement already satisfied: mpmath<1.4,>=1.1.0 in /usr/local/lib/python3.10/dist-packages (from sympy==1.13.1->torch) (1.3.0)\n",
            "Requirement already satisfied: numpy in /usr/local/lib/python3.10/dist-packages (from torchvision) (1.26.4)\n",
            "Requirement already satisfied: pillow!=8.3.*,>=5.3.0 in /usr/local/lib/python3.10/dist-packages (from torchvision) (10.4.0)\n",
            "Requirement already satisfied: MarkupSafe>=2.0 in /usr/local/lib/python3.10/dist-packages (from jinja2->torch) (3.0.2)\n",
            "Requirement already satisfied: timm in /usr/local/lib/python3.10/dist-packages (1.0.11)\n",
            "Requirement already satisfied: torch in /usr/local/lib/python3.10/dist-packages (from timm) (2.5.0+cu121)\n",
            "Requirement already satisfied: torchvision in /usr/local/lib/python3.10/dist-packages (from timm) (0.20.0+cu121)\n",
            "Requirement already satisfied: pyyaml in /usr/local/lib/python3.10/dist-packages (from timm) (6.0.2)\n",
            "Requirement already satisfied: huggingface_hub in /usr/local/lib/python3.10/dist-packages (from timm) (0.24.7)\n",
            "Requirement already satisfied: safetensors in /usr/local/lib/python3.10/dist-packages (from timm) (0.4.5)\n",
            "Requirement already satisfied: filelock in /usr/local/lib/python3.10/dist-packages (from huggingface_hub->timm) (3.16.1)\n",
            "Requirement already satisfied: fsspec>=2023.5.0 in /usr/local/lib/python3.10/dist-packages (from huggingface_hub->timm) (2024.6.1)\n",
            "Requirement already satisfied: packaging>=20.9 in /usr/local/lib/python3.10/dist-packages (from huggingface_hub->timm) (24.1)\n",
            "Requirement already satisfied: requests in /usr/local/lib/python3.10/dist-packages (from huggingface_hub->timm) (2.32.3)\n",
            "Requirement already satisfied: tqdm>=4.42.1 in /usr/local/lib/python3.10/dist-packages (from huggingface_hub->timm) (4.66.5)\n",
            "Requirement already satisfied: typing-extensions>=3.7.4.3 in /usr/local/lib/python3.10/dist-packages (from huggingface_hub->timm) (4.12.2)\n",
            "Requirement already satisfied: networkx in /usr/local/lib/python3.10/dist-packages (from torch->timm) (3.4.2)\n",
            "Requirement already satisfied: jinja2 in /usr/local/lib/python3.10/dist-packages (from torch->timm) (3.1.4)\n",
            "Requirement already satisfied: sympy==1.13.1 in /usr/local/lib/python3.10/dist-packages (from torch->timm) (1.13.1)\n",
            "Requirement already satisfied: mpmath<1.4,>=1.1.0 in /usr/local/lib/python3.10/dist-packages (from sympy==1.13.1->torch->timm) (1.3.0)\n",
            "Requirement already satisfied: numpy in /usr/local/lib/python3.10/dist-packages (from torchvision->timm) (1.26.4)\n",
            "Requirement already satisfied: pillow!=8.3.*,>=5.3.0 in /usr/local/lib/python3.10/dist-packages (from torchvision->timm) (10.4.0)\n",
            "Requirement already satisfied: MarkupSafe>=2.0 in /usr/local/lib/python3.10/dist-packages (from jinja2->torch->timm) (3.0.2)\n",
            "Requirement already satisfied: charset-normalizer<4,>=2 in /usr/local/lib/python3.10/dist-packages (from requests->huggingface_hub->timm) (3.4.0)\n",
            "Requirement already satisfied: idna<4,>=2.5 in /usr/local/lib/python3.10/dist-packages (from requests->huggingface_hub->timm) (3.10)\n",
            "Requirement already satisfied: urllib3<3,>=1.21.1 in /usr/local/lib/python3.10/dist-packages (from requests->huggingface_hub->timm) (2.2.3)\n",
            "Requirement already satisfied: certifi>=2017.4.17 in /usr/local/lib/python3.10/dist-packages (from requests->huggingface_hub->timm) (2024.8.30)\n",
            "Requirement already satisfied: onnx in /usr/local/lib/python3.10/dist-packages (1.17.0)\n",
            "Requirement already satisfied: numpy>=1.20 in /usr/local/lib/python3.10/dist-packages (from onnx) (1.26.4)\n",
            "Requirement already satisfied: protobuf>=3.20.2 in /usr/local/lib/python3.10/dist-packages (from onnx) (3.20.3)\n",
            "Requirement already satisfied: onnxruntime in /usr/local/lib/python3.10/dist-packages (1.20.0)\n",
            "Requirement already satisfied: coloredlogs in /usr/local/lib/python3.10/dist-packages (from onnxruntime) (15.0.1)\n",
            "Requirement already satisfied: flatbuffers in /usr/local/lib/python3.10/dist-packages (from onnxruntime) (24.3.25)\n",
            "Requirement already satisfied: numpy>=1.21.6 in /usr/local/lib/python3.10/dist-packages (from onnxruntime) (1.26.4)\n",
            "Requirement already satisfied: packaging in /usr/local/lib/python3.10/dist-packages (from onnxruntime) (24.1)\n",
            "Requirement already satisfied: protobuf in /usr/local/lib/python3.10/dist-packages (from onnxruntime) (3.20.3)\n",
            "Requirement already satisfied: sympy in /usr/local/lib/python3.10/dist-packages (from onnxruntime) (1.13.1)\n",
            "Requirement already satisfied: humanfriendly>=9.1 in /usr/local/lib/python3.10/dist-packages (from coloredlogs->onnxruntime) (10.0)\n",
            "Requirement already satisfied: mpmath<1.4,>=1.1.0 in /usr/local/lib/python3.10/dist-packages (from sympy->onnxruntime) (1.3.0)\n",
            "Requirement already satisfied: albumentations in /usr/local/lib/python3.10/dist-packages (1.4.15)\n",
            "Requirement already satisfied: numpy>=1.24.4 in /usr/local/lib/python3.10/dist-packages (from albumentations) (1.26.4)\n",
            "Requirement already satisfied: scipy>=1.10.0 in /usr/local/lib/python3.10/dist-packages (from albumentations) (1.13.1)\n",
            "Requirement already satisfied: scikit-image>=0.21.0 in /usr/local/lib/python3.10/dist-packages (from albumentations) (0.24.0)\n",
            "Requirement already satisfied: PyYAML in /usr/local/lib/python3.10/dist-packages (from albumentations) (6.0.2)\n",
            "Requirement already satisfied: pydantic>=2.7.0 in /usr/local/lib/python3.10/dist-packages (from albumentations) (2.9.2)\n",
            "Requirement already satisfied: albucore>=0.0.15 in /usr/local/lib/python3.10/dist-packages (from albumentations) (0.0.16)\n",
            "Requirement already satisfied: eval-type-backport in /usr/local/lib/python3.10/dist-packages (from albumentations) (0.2.0)\n",
            "Requirement already satisfied: opencv-python-headless>=4.9.0.80 in /usr/local/lib/python3.10/dist-packages (from albumentations) (4.10.0.84)\n",
            "Requirement already satisfied: annotated-types>=0.6.0 in /usr/local/lib/python3.10/dist-packages (from pydantic>=2.7.0->albumentations) (0.7.0)\n",
            "Requirement already satisfied: pydantic-core==2.23.4 in /usr/local/lib/python3.10/dist-packages (from pydantic>=2.7.0->albumentations) (2.23.4)\n",
            "Requirement already satisfied: typing-extensions>=4.6.1 in /usr/local/lib/python3.10/dist-packages (from pydantic>=2.7.0->albumentations) (4.12.2)\n",
            "Requirement already satisfied: networkx>=2.8 in /usr/local/lib/python3.10/dist-packages (from scikit-image>=0.21.0->albumentations) (3.4.2)\n",
            "Requirement already satisfied: pillow>=9.1 in /usr/local/lib/python3.10/dist-packages (from scikit-image>=0.21.0->albumentations) (10.4.0)\n",
            "Requirement already satisfied: imageio>=2.33 in /usr/local/lib/python3.10/dist-packages (from scikit-image>=0.21.0->albumentations) (2.35.1)\n",
            "Requirement already satisfied: tifffile>=2022.8.12 in /usr/local/lib/python3.10/dist-packages (from scikit-image>=0.21.0->albumentations) (2024.9.20)\n",
            "Requirement already satisfied: packaging>=21 in /usr/local/lib/python3.10/dist-packages (from scikit-image>=0.21.0->albumentations) (24.1)\n",
            "Requirement already satisfied: lazy-loader>=0.4 in /usr/local/lib/python3.10/dist-packages (from scikit-image>=0.21.0->albumentations) (0.4)\n"
          ]
        }
      ],
      "source": [
        "!pip install pandas\n",
        "!pip install pillow\n",
        "!pip install kagglehub\n",
        "!pip install scikit-learn\n",
        "!pip3 install torch torchvision torchaudio --index-url https://download.pytorch.org/whl/cu124\n",
        "!pip install timm\n",
        "!pip install onnx\n",
        "!pip install onnxruntime\n",
        "!pip install albumentations"
      ]
    },
    {
      "cell_type": "code",
      "execution_count": 1,
      "metadata": {
        "id": "OZoPoIa43uT6",
        "colab": {
          "base_uri": "https://localhost:8080/",
          "height": 162,
          "referenced_widgets": [
            "41e5c982611a4f9682bf7444b3f6b75e",
            "8d03d580c10c4f97b62ac1af0735fdd2",
            "c9909737ae2c47ecb0111c848deb3e3b",
            "5ab2400380a74392997989e8356e9781",
            "8cf533c8735f41ceb7a7cbf9e083f621",
            "3a2c07c3e6b34aa79d327d2af80d3627",
            "0edf41d4febd4f538449b43b23e56bbc",
            "a1cfd499dddc433ca9cdd88ed7ed54b0",
            "18d7897109224bcdbe207da687a62a3c",
            "c31875a636534e4b8142d08f981bc6a5",
            "4dbe15b978e04a5c8f6d8eabf4876db5",
            "82ec69c8862c42a682cd4c991b15b034",
            "1d8c295c08df4f30be299e5ee7630931",
            "d3250e7e5e4b487e88186a645872873c",
            "8ffcde929372454fb4e29fbd7c533b8a",
            "21010c94c84c414ba30278d14c91d35c",
            "5af68fb507bf408d8153e7aeecc7f0e9",
            "a28715fe90a54c448449ffd7916c97ec",
            "2423deeb68cc4d2fbc394d83aa0f7e45",
            "ed0ef5632fec4204b64ad8f32cc6c9aa",
            "ae520ce20bca47adb6bce8d5aec8fbcf",
            "df0a2834f12e4c58832b5a9367f90ac3",
            "4f12b5edf58f4dd7a234a3d47e4a6c51",
            "27e49dfa201a48a5ac7fa1c4f8fd1966",
            "8c16d20163b94fe887d462073c4695e8",
            "a0c49706cc314802a96d8f61a54167ef",
            "74639efb6e394d3d90cea898313ba1ba",
            "fcb8319bd42a434cb3558c8115508ab9",
            "8ceeff1994234af7aec4b08f70964f0a",
            "ea4bda355837434d9259b2a1e697b48e",
            "7ed3cfb15c024fa7b47047599986928e",
            "86803f4ff0a044aba790733498f4b268"
          ]
        },
        "executionInfo": {
          "status": "ok",
          "timestamp": 1733444478934,
          "user_tz": -540,
          "elapsed": 344,
          "user": {
            "displayName": "",
            "userId": ""
          }
        },
        "outputId": "c6cb2ce8-dedd-4bef-9b2c-89a4eed863ea"
      },
      "outputs": [
        {
          "output_type": "display_data",
          "data": {
            "text/plain": [
              "VBox(children=(HTML(value='<center> <img\\nsrc=https://huggingface.co/front/assets/huggingface_logo-noborder.sv…"
            ],
            "application/vnd.jupyter.widget-view+json": {
              "version_major": 2,
              "version_minor": 0,
              "model_id": "41e5c982611a4f9682bf7444b3f6b75e"
            }
          },
          "metadata": {}
        }
      ],
      "source": [
        "import huggingface_hub\n",
        "huggingface_hub.login()"
      ]
    },
    {
      "cell_type": "code",
      "execution_count": 2,
      "metadata": {
        "colab": {
          "base_uri": "https://localhost:8080/"
        },
        "executionInfo": {
          "elapsed": 8996,
          "status": "ok",
          "timestamp": 1733444512798,
          "user": {
            "displayName": "",
            "userId": ""
          },
          "user_tz": -540
        },
        "id": "YBK5SmPGXKcu",
        "outputId": "6583e8c3-a57d-40cf-ffab-6a47c6338e61"
      },
      "outputs": [
        {
          "output_type": "stream",
          "name": "stderr",
          "text": [
            "/usr/local/lib/python3.10/dist-packages/albumentations/__init__.py:13: UserWarning: A new version of Albumentations is available: 1.4.21 (you have 1.4.15). Upgrade using: pip install -U albumentations. To disable automatic update checks, set the environment variable NO_ALBUMENTATIONS_UPDATE to 1.\n",
            "  check_for_updates()\n"
          ]
        }
      ],
      "source": [
        "import os\n",
        "import random\n",
        "import albumentations as A\n",
        "from albumentations.pytorch import ToTensorV2\n",
        "from sklearn.metrics import accuracy_score\n",
        "from PIL import Image\n",
        "from itertools import combinations\n",
        "import kagglehub\n",
        "import numpy as np\n",
        "import pandas as pd\n",
        "import torch\n",
        "import torch.nn as nn\n",
        "from torch.amp import GradScaler, autocast\n",
        "import timm\n",
        "from torchvision import models, transforms\n",
        "from torch.optim import Adam\n",
        "from torch.utils.data import DataLoader, Dataset\n",
        "from torchvision.datasets import ImageFolder\n",
        "import torch.nn.functional as F\n",
        "import onnx\n",
        "import onnxruntime as ort\n",
        "from onnxruntime.quantization import quantize_dynamic, QuantType\n",
        "import time\n",
        "from tqdm import tqdm\n",
        "from matplotlib import pyplot as plt"
      ]
    },
    {
      "cell_type": "code",
      "execution_count": 3,
      "metadata": {
        "id": "mlCtdOvvXKcu",
        "executionInfo": {
          "status": "ok",
          "timestamp": 1733444512798,
          "user_tz": -540,
          "elapsed": 7,
          "user": {
            "displayName": "",
            "userId": ""
          }
        }
      },
      "outputs": [],
      "source": [
        "def create_image_pairs_labels_old(dataset_dir, num_impostor_pairs=1000):\n",
        "    # Dictionary to organize images by user and finger type\n",
        "    user_finger_dict = {}\n",
        "\n",
        "    # Step 1: Parse filenames and organize by user ID and finger type\n",
        "    for filename in os.listdir(dataset_dir):\n",
        "        if filename.endswith(\".BMP\"):\n",
        "            parts = filename.split(\"__\")  # Splitting by double underscore\n",
        "            user_num = parts[0]\n",
        "            finger_type = parts[1].rsplit(\"_\", 1)[0]  # Extracting finger info without augmentation part\n",
        "\n",
        "            # Add to dictionary\n",
        "            if (user_num, finger_type) not in user_finger_dict:\n",
        "                user_finger_dict[(user_num, finger_type)] = []\n",
        "            user_finger_dict[(user_num, finger_type)].append(os.path.join(dataset_dir, filename))\n",
        "\n",
        "    image_pairs = []\n",
        "    labels = []\n",
        "\n",
        "    # Step 2: Create genuine pairs (same user, same finger)\n",
        "    for _, images in user_finger_dict.items():\n",
        "        if len(images) > 1:\n",
        "            for img1, img2 in combinations(images, 2):\n",
        "                image_pairs.append((img1, img2))\n",
        "                labels.append(1)  # 1 for genuine pairs\n",
        "\n",
        "    # Step 3: Create impostor pairs (different user or different finger)\n",
        "    user_finger_keys = list(user_finger_dict.keys())\n",
        "    num_pairs = 0\n",
        "\n",
        "    while num_pairs < num_impostor_pairs:\n",
        "        user_finger1, user_finger2 = random.sample(user_finger_keys, 2)\n",
        "\n",
        "        # Ensure different user or finger type\n",
        "        if user_finger1[0] != user_finger2[0] or user_finger1[1] != user_finger2[1]:\n",
        "            img1 = random.choice(user_finger_dict[user_finger1])\n",
        "            img2 = random.choice(user_finger_dict[user_finger2])\n",
        "            image_pairs.append((img1, img2))\n",
        "            labels.append(-1)  # -1 for impostor pairs\n",
        "            num_pairs += 1\n",
        "\n",
        "    return image_pairs, labels"
      ]
    },
    {
      "cell_type": "code",
      "execution_count": 4,
      "metadata": {
        "id": "J-L0OGmBkuAF",
        "executionInfo": {
          "status": "ok",
          "timestamp": 1733444512799,
          "user_tz": -540,
          "elapsed": 7,
          "user": {
            "displayName": "",
            "userId": ""
          }
        }
      },
      "outputs": [],
      "source": [
        "def create_image_pairs_labels(dataset_dir, num_impostor_pairs=1000):\n",
        "    # Dictionary to organize images by user finger ID\n",
        "    user_finger_dict = {}\n",
        "\n",
        "    # Step 1: Parse filenames and organize by user finger ID\n",
        "    for filename in os.listdir(dataset_dir):\n",
        "        if filename.endswith(\".jpg\"):\n",
        "            user_finger_id = filename.split(\"_\")[0]  # Extract user finger ID (X part of X_Y)\n",
        "\n",
        "            # Add to dictionary\n",
        "            if user_finger_id not in user_finger_dict:\n",
        "                user_finger_dict[user_finger_id] = []\n",
        "            user_finger_dict[user_finger_id].append(os.path.join(dataset_dir, filename))\n",
        "\n",
        "    image_pairs = []\n",
        "    labels = []\n",
        "\n",
        "    # Step 2: Create genuine pairs (same user finger ID)\n",
        "    for images in user_finger_dict.values():\n",
        "        if len(images) > 1:\n",
        "            for img1, img2 in combinations(images, 2):\n",
        "                image_pairs.append((img1, img2))\n",
        "                labels.append(1)  # 1 for genuine pairs\n",
        "\n",
        "    # Step 3: Create impostor pairs (different user finger IDs)\n",
        "    user_finger_keys = list(user_finger_dict.keys())\n",
        "    num_pairs = 0\n",
        "\n",
        "    while num_pairs < num_impostor_pairs:\n",
        "        user_finger1, user_finger2 = random.sample(user_finger_keys, 2)\n",
        "\n",
        "        # Ensure different user finger IDs\n",
        "        if user_finger1 != user_finger2:\n",
        "            img1 = random.choice(user_finger_dict[user_finger1])\n",
        "            img2 = random.choice(user_finger_dict[user_finger2])\n",
        "            image_pairs.append((img1, img2))\n",
        "            labels.append(-1)  # -1 for impostor pairs\n",
        "            num_pairs += 1\n",
        "\n",
        "    return image_pairs, labels"
      ]
    },
    {
      "cell_type": "code",
      "execution_count": 5,
      "metadata": {
        "id": "avilXV2WzSjG",
        "executionInfo": {
          "status": "ok",
          "timestamp": 1733444512799,
          "user_tz": -540,
          "elapsed": 7,
          "user": {
            "displayName": "",
            "userId": ""
          }
        }
      },
      "outputs": [],
      "source": [
        "class Transforms:\n",
        "    def __init__(self, augmentation=True):\n",
        "        # Define augmentation transforms (Albumentations)\n",
        "        self.augmentation_transforms = A.Compose([\n",
        "            A.RandomBrightnessContrast(p=0.2),\n",
        "            # Flipping to account for possible orientation changes\n",
        "            A.HorizontalFlip(p=0.5),\n",
        "            A.VerticalFlip(p=0.5),\n",
        "            # Gaussian blur to simulate minor blurring in fingerprints\n",
        "            A.GaussianBlur(blur_limit=(3, 7), p=0.3),\n",
        "            # Crop and resize to the original transformer input size\n",
        "            A.RandomResizedCrop(height=244, width=244, scale=(0.8, 1.0), p=0.5),\n",
        "            # Shift, scale, and rotate to account for finger misplacement\n",
        "            A.ShiftScaleRotate(shift_limit=0.1, scale_limit=0.1, rotate_limit=10, p=0.5),\n",
        "            # Random occlusion to simulate partial visibility of fingerprints\n",
        "            A.CoarseDropout(max_holes=5, max_height=20, max_width=20, min_holes=1, min_height=10, min_width=10, fill_value=0, p=0.4),\n",
        "\n",
        "        ]) if augmentation else None\n",
        "\n",
        "        # Define resize and normalization (Albumentations and PyTorch)\n",
        "        self.resize_and_normalize = A.Compose([\n",
        "            A.Resize(224, 224),  # Resizing to 224x224\n",
        "            A.Normalize(mean=[0.485, 0.456, 0.406], std=[0.229, 0.224, 0.225]),  # ImageNet normalization\n",
        "            ToTensorV2()  # Convert to PyTorch tensor\n",
        "        ])\n",
        "\n",
        "    def __call__(self, img):\n",
        "        # Convert PIL Image to numpy array if necessary\n",
        "        if isinstance(img, Image.Image):\n",
        "            img = np.array(img)\n",
        "\n",
        "        # Apply augmentation transforms if enabled\n",
        "        if self.augmentation_transforms:\n",
        "            img = self.augmentation_transforms(image=img)[\"image\"]\n",
        "\n",
        "        # Apply resize and normalize transforms\n",
        "        img = self.resize_and_normalize(image=img)[\"image\"]\n",
        "\n",
        "        return img"
      ]
    },
    {
      "cell_type": "code",
      "execution_count": 6,
      "metadata": {
        "id": "ek3xW400XKcv",
        "executionInfo": {
          "status": "ok",
          "timestamp": 1733444512799,
          "user_tz": -540,
          "elapsed": 7,
          "user": {
            "displayName": "",
            "userId": ""
          }
        }
      },
      "outputs": [],
      "source": [
        "# Custom Dataset for Siamese Network\n",
        "class SiameseFingerprintDataset(Dataset):\n",
        "    def __init__(self, image_pairs, labels, transform=None):\n",
        "        self.image_pairs = image_pairs\n",
        "        self.labels = labels\n",
        "        self.transform = transform\n",
        "\n",
        "    def __getitem__(self, index):\n",
        "        # Load images from file paths\n",
        "        img1_path, img2_path = self.image_pairs[index]\n",
        "        if not os.path.isfile(img1_path):\n",
        "            raise FileNotFoundError(f\"Image 1 not found: {img1_path}\")\n",
        "        if not os.path.isfile(img2_path):\n",
        "            raise FileNotFoundError(f\"Image 2 not found: {img2_path}\")\n",
        "\n",
        "        img1 = Image.open(img1_path).convert(\"RGB\")  # Ensure 3 channels\n",
        "        img2 = Image.open(img2_path).convert(\"RGB\")\n",
        "\n",
        "        # Apply transformations\n",
        "        img1 = self.transform(img1)\n",
        "        img2 = self.transform(img2)\n",
        "\n",
        "        # Get label\n",
        "        label = torch.tensor(self.labels[index], dtype=torch.float32)\n",
        "\n",
        "        return img1, img2, label\n",
        "\n",
        "    def __len__(self):\n",
        "        return len(self.image_pairs)"
      ]
    },
    {
      "cell_type": "code",
      "execution_count": 7,
      "metadata": {
        "id": "NWqbII0xXKcv",
        "executionInfo": {
          "status": "ok",
          "timestamp": 1733444512799,
          "user_tz": -540,
          "elapsed": 7,
          "user": {
            "displayName": "",
            "userId": ""
          }
        }
      },
      "outputs": [],
      "source": [
        "class SiameseDeiTTiny(nn.Module):\n",
        "    def __init__(self, embedding = 64):\n",
        "        super(SiameseDeiTTiny, self).__init__()\n",
        "        self.deit = timm.create_model('deit_tiny_patch16_224', pretrained=True)\n",
        "\n",
        "        # Get the number of features from the previous layer\n",
        "        num_features = self.deit.head.in_features\n",
        "\n",
        "        # Remove the original classification head\n",
        "        self.deit.head = None\n",
        "\n",
        "        # Add a new fully connected layer with the desired embedding dimension\n",
        "        self.deit.head = nn.Linear(num_features, embedding)\n",
        "\n",
        "    def forward(self, img1, img2):\n",
        "        embed1 = self.deit(img1)\n",
        "        embed2 = self.deit(img2)\n",
        "        return embed1, embed2"
      ]
    },
    {
      "cell_type": "code",
      "execution_count": 8,
      "metadata": {
        "id": "sZK-36hGBtqV",
        "executionInfo": {
          "status": "ok",
          "timestamp": 1733444512799,
          "user_tz": -540,
          "elapsed": 6,
          "user": {
            "displayName": "",
            "userId": ""
          }
        }
      },
      "outputs": [],
      "source": [
        "# Mapper function to return the corresponding distance metric function\n",
        "def get_distance_metric_function(distance_metric):\n",
        "    \"\"\"\n",
        "    Returns the appropriate distance metric function based on the string input.\n",
        "\n",
        "    :param distance_metric: One of ['euclidean', 'cosine', 'manhattan', 'mahalanobis', 'dot', 'squared_euclidean']\n",
        "    :return: Corresponding distance metric function\n",
        "    \"\"\"\n",
        "    if distance_metric == 'euclidean':\n",
        "        return euclidean_distance\n",
        "    elif distance_metric == 'cosine':\n",
        "        return cosine_similarity\n",
        "    elif distance_metric == 'manhattan':\n",
        "        return manhattan_distance\n",
        "    elif distance_metric == 'mahalanobis':\n",
        "        return mahalanobis_distance\n",
        "    elif distance_metric == 'dot':\n",
        "        return dot_product\n",
        "    elif distance_metric == 'squared_euclidean':\n",
        "        return squared_euclidean_distance\n",
        "    else:\n",
        "        raise ValueError(f\"Unknown distance metric: {distance_metric}\")\n",
        "\n",
        "# Define individual distance functions\n",
        "def euclidean_distance(output1, output2):\n",
        "    return F.pairwise_distance(output1, output2, keepdim=True)\n",
        "\n",
        "def cosine_similarity(output1, output2):\n",
        "    return 1 - F.cosine_similarity(output1, output2)\n",
        "\n",
        "def manhattan_distance(output1, output2):\n",
        "    return torch.sum(torch.abs(output1 - output2), dim=1, keepdim=True)\n",
        "\n",
        "def mahalanobis_distance(output1, output2):\n",
        "    diff = output1 - output2\n",
        "    return torch.sqrt(torch.sum(torch.pow(diff, 2), dim=1, keepdim=True))\n",
        "\n",
        "def dot_product(output1, output2):\n",
        "    return torch.sum(output1 * output2, dim=1, keepdim=True)\n",
        "\n",
        "def squared_euclidean_distance(output1, output2):\n",
        "    return torch.sum(torch.pow(output1 - output2, 2), dim=1, keepdim=True)\n",
        "\n",
        "\n",
        "class ContrastiveLoss(nn.Module):\n",
        "    def __init__(self, margin=1.0, distance_metric_fn=None):\n",
        "        \"\"\"\n",
        "        Constructor for ContrastiveLoss.\n",
        "\n",
        "        :param margin: Margin for Contrastive Loss. Default is 1.0.\n",
        "        :param distance_metric_fn: A function for distance metric (e.g., euclidean_distance, cosine_similarity, etc.)\n",
        "        \"\"\"\n",
        "        super(ContrastiveLoss, self).__init__()\n",
        "        self.margin = margin\n",
        "        self.distance_metric_fn = distance_metric_fn\n",
        "\n",
        "    def forward(self, output1, output2, label):\n",
        "        # Calculate distance using the passed distance metric function\n",
        "        distance = self.distance_metric_fn(output1, output2)\n",
        "\n",
        "        # Compute contrastive loss\n",
        "        loss = torch.mean((label == 1) * torch.pow(distance, 2) +\n",
        "                          (label == -1) * torch.pow(torch.clamp(self.margin - distance, min=0.0), 2))\n",
        "\n",
        "        return loss"
      ]
    },
    {
      "cell_type": "code",
      "execution_count": 9,
      "metadata": {
        "id": "XkM5JBrfhOBT",
        "executionInfo": {
          "status": "ok",
          "timestamp": 1733444512799,
          "user_tz": -540,
          "elapsed": 6,
          "user": {
            "displayName": "",
            "userId": ""
          }
        }
      },
      "outputs": [],
      "source": [
        "# Evaluation Function\n",
        "def calculate_far_frr(predictions, labels):\n",
        "    # Convert inputs to numpy arrays for easier boolean indexing\n",
        "    predictions = np.array(predictions)\n",
        "    labels = np.array(labels)\n",
        "\n",
        "    # Calculate True Positives, False Positives, True Negatives, and False Negatives\n",
        "    true_positives = ((predictions == 1) & (labels == 1)).sum()  # Genuine pairs correctly identified\n",
        "    false_positives = ((predictions == 1) & (labels == -1)).sum()  # Imposter pairs incorrectly identified as genuine\n",
        "    true_negatives = ((predictions == -1) & (labels == -1)).sum()  # Imposter pairs correctly identified\n",
        "    false_negatives = ((predictions == -1) & (labels == 1)).sum()  # Genuine pairs incorrectly identified as imposter\n",
        "\n",
        "    # Calculate FAR and FRR\n",
        "    far = false_positives / (false_positives + true_negatives) if (false_positives + true_negatives) > 0 else 0\n",
        "    frr = false_negatives / (false_negatives + true_positives) if (false_negatives + true_positives) > 0 else 0\n",
        "\n",
        "    return far, frr"
      ]
    },
    {
      "cell_type": "code",
      "execution_count": 10,
      "metadata": {
        "id": "CCRfe9_eZAI0",
        "executionInfo": {
          "status": "ok",
          "timestamp": 1733444512799,
          "user_tz": -540,
          "elapsed": 6,
          "user": {
            "displayName": "",
            "userId": ""
          }
        }
      },
      "outputs": [],
      "source": [
        "# Training Function\n",
        "def train(model, train_loader, val_loader, criterion, optimizer, device, num_epochs=10, patience=5):\n",
        "    model.train()\n",
        "\n",
        "    # Initialize variables for early stopping\n",
        "    best_val_loss = float('inf')\n",
        "    patience_counter = 0\n",
        "\n",
        "    # GradScaler for mixed precision training\n",
        "    scaler = GradScaler()\n",
        "\n",
        "    for epoch in tqdm(range(num_epochs), desc='Epoch: '):\n",
        "        model.train()  # Set model to training mode\n",
        "        total_train_loss = 0.0\n",
        "\n",
        "        # Training loop\n",
        "        for img1, img2, label in train_loader:\n",
        "            img1, img2, label = img1.to(device), img2.to(device), label.to(device)\n",
        "            optimizer.zero_grad()\n",
        "\n",
        "            # Forward pass with mixed precision\n",
        "            with autocast(device_type='cuda', dtype=torch.float16):\n",
        "                embed1, embed2 = model(img1, img2)\n",
        "                loss = criterion(embed1, embed2, label.float())\n",
        "\n",
        "            # Backward pass and optimization\n",
        "            scaler.scale(loss).backward()\n",
        "            scaler.step(optimizer)\n",
        "            scaler.update()\n",
        "\n",
        "            total_train_loss += loss.item()\n",
        "\n",
        "        avg_train_loss = total_train_loss / len(train_loader)\n",
        "\n",
        "        # Validation loop\n",
        "        model.eval()  # Set model to evaluation mode\n",
        "        total_val_loss = 0.0\n",
        "        with torch.no_grad():\n",
        "            for img1, img2, label in val_loader:\n",
        "                img1, img2, label = img1.to(device), img2.to(device), label.to(device)\n",
        "\n",
        "                # Forward pass\n",
        "                with autocast(device_type='cuda', dtype=torch.float16):\n",
        "                    embed1, embed2 = model(img1, img2)\n",
        "                    val_loss = criterion(embed1, embed2, label.float())\n",
        "                    total_val_loss += val_loss.item()\n",
        "\n",
        "        avg_val_loss = total_val_loss / len(val_loader)\n",
        "        print(f\"Training Loss: {avg_train_loss:.4f}, Validation Loss: {avg_val_loss:.4f}\")\n",
        "\n",
        "        # Early stopping\n",
        "        if avg_val_loss < best_val_loss:\n",
        "            best_val_loss = avg_val_loss\n",
        "            patience_counter = 0\n",
        "            # Save the best model state\n",
        "            best_model_state = model.state_dict()\n",
        "        else:\n",
        "            patience_counter += 1\n",
        "\n",
        "        # If the patience counter exceeds the patience threshold, stop training\n",
        "        if patience_counter >= patience:\n",
        "            print(\"Early stopping triggered. Restoring best model state.\")\n",
        "            model.load_state_dict(best_model_state)\n",
        "            break\n",
        "\n",
        "    return model\n",
        "\n",
        "# Testing Function\n",
        "def test_model(model, test_loader, device, distance_metric_fn=None):\n",
        "    model.eval()\n",
        "    embeddings1 = []\n",
        "    embeddings2 = []\n",
        "    labels = []\n",
        "\n",
        "    with torch.no_grad():\n",
        "        for img1, img2, label in  test_loader:\n",
        "            img1, img2, label = img1.to(device), img2.to(device), label.to(device)\n",
        "            embed1, embed2 = model(img1, img2)\n",
        "            embeddings1.append(embed1)\n",
        "            embeddings2.append(embed2)\n",
        "            labels.extend(label.cpu().numpy())\n",
        "\n",
        "    embeddings1 = torch.cat(embeddings1)\n",
        "    embeddings2 = torch.cat(embeddings2)\n",
        "\n",
        "    similarities = distance_metric_fn(embeddings1, embeddings2)\n",
        "\n",
        "    return labels, similarities\n",
        "\n",
        "def evaluate_result(labels, similarities, threshold):\n",
        "    # Label the predicted cosine similarity depending on the threshold\n",
        "    predictions = np.where(similarities.cpu().numpy() <= threshold, 1, -1)\n",
        "\n",
        "    accuracy = accuracy_score(labels, predictions)\n",
        "    far, frr = calculate_far_frr(predictions, labels)\n",
        "\n",
        "    return accuracy, far, frr"
      ]
    },
    {
      "cell_type": "markdown",
      "metadata": {
        "id": "PRgjjjoqkuAH"
      },
      "source": [
        "### Kaggle 데이터셋 이미지 쌍 생성\n",
        "\n"
      ]
    },
    {
      "cell_type": "code",
      "execution_count": 11,
      "metadata": {
        "colab": {
          "base_uri": "https://localhost:8080/",
          "height": 164
        },
        "executionInfo": {
          "elapsed": 6,
          "status": "ok",
          "timestamp": 1733444512799,
          "user": {
            "displayName": "",
            "userId": ""
          },
          "user_tz": -540
        },
        "id": "rHZIlrOKXKcv",
        "outputId": "ed4e440a-bdf0-4f74-f42e-cc8c92743c26"
      },
      "outputs": [
        {
          "output_type": "execute_result",
          "data": {
            "text/plain": [
              "'\\n# Download latest version\\npath = kagglehub.dataset_download(\"ruizgara/socofing\")\\n\\npath_easy = os.path.join(path, \\'SOCOFing/Altered/Altered-Easy\\')\\npath_medium = os.path.join(path, \\'SOCOFing/Altered/Altered-Medium\\')\\npath_hard = os.path.join(path, \\'SOCOFing/Altered/Altered-Hard\\')\\n\\n# Prepare dataset\\nhard_image_pairs, hard_labels = create_image_pairs_labels_old(path_hard, num_impostor_pairs=30000)\\nmedium_image_pairs, medium_labels = create_image_pairs_labels_old(path_medium, num_impostor_pairs=30000)\\neasy_image_pairs, easy_labels = create_image_pairs_labels_old(path_easy, num_impostor_pairs=30000)\\n\\nimage_pairs = hard_image_pairs + medium_image_pairs + easy_image_pairs\\nlabels = hard_labels + medium_labels + easy_labels\\n\\ncombined = list(zip(image_pairs, labels))\\n\\n# Shuffle the combined array\\nnp.random.shuffle(combined)\\n\\n# Unzip the shuffled array back into image pairs and labels\\nimage_pairs, labels = zip(*combined)\\n'"
            ],
            "application/vnd.google.colaboratory.intrinsic+json": {
              "type": "string"
            }
          },
          "metadata": {},
          "execution_count": 11
        }
      ],
      "source": [
        "'''\n",
        "# Download latest version\n",
        "path = kagglehub.dataset_download(\"ruizgara/socofing\")\n",
        "\n",
        "path_easy = os.path.join(path, 'SOCOFing/Altered/Altered-Easy')\n",
        "path_medium = os.path.join(path, 'SOCOFing/Altered/Altered-Medium')\n",
        "path_hard = os.path.join(path, 'SOCOFing/Altered/Altered-Hard')\n",
        "\n",
        "# Prepare dataset\n",
        "hard_image_pairs, hard_labels = create_image_pairs_labels_old(path_hard, num_impostor_pairs=30000)\n",
        "medium_image_pairs, medium_labels = create_image_pairs_labels_old(path_medium, num_impostor_pairs=30000)\n",
        "easy_image_pairs, easy_labels = create_image_pairs_labels_old(path_easy, num_impostor_pairs=30000)\n",
        "\n",
        "image_pairs = hard_image_pairs + medium_image_pairs + easy_image_pairs\n",
        "labels = hard_labels + medium_labels + easy_labels\n",
        "\n",
        "combined = list(zip(image_pairs, labels))\n",
        "\n",
        "# Shuffle the combined array\n",
        "np.random.shuffle(combined)\n",
        "\n",
        "# Unzip the shuffled array back into image pairs and labels\n",
        "image_pairs, labels = zip(*combined)\n",
        "'''"
      ]
    },
    {
      "cell_type": "markdown",
      "source": [
        "### PolyU 데이터셋 이미지 쌍 생성"
      ],
      "metadata": {
        "id": "0RTYNuAOnlS0"
      }
    },
    {
      "cell_type": "code",
      "source": [
        "path = \"/content/contact-based_fingerprints\"\n",
        "\n",
        "path_session1 = os.path.join(path, 'first_session')\n",
        "path_session2 = os.path.join(path, 'second_session')\n",
        "\n",
        "image_pairs1, labels1 = create_image_pairs_labels(path_session1, num_impostor_pairs=10000)\n",
        "image_pairs2, labels2 = create_image_pairs_labels(path_session2, num_impostor_pairs=10000)\n",
        "\n",
        "image_pairs = image_pairs1 + image_pairs2\n",
        "labels = labels1 + labels2\n",
        "\n",
        "combined = list(zip(image_pairs, labels))\n",
        "\n",
        "# Shuffle the combined array\n",
        "np.random.shuffle(combined)\n",
        "\n",
        "# Unzip the shuffled array back into image pairs and labels\n",
        "image_pairs, labels = zip(*combined)"
      ],
      "metadata": {
        "id": "nD1jmtIYnk4a",
        "executionInfo": {
          "status": "ok",
          "timestamp": 1733444513142,
          "user_tz": -540,
          "elapsed": 347,
          "user": {
            "displayName": "",
            "userId": ""
          }
        }
      },
      "execution_count": 12,
      "outputs": []
    },
    {
      "cell_type": "code",
      "execution_count": 13,
      "metadata": {
        "id": "-NPgX0rVdPkT",
        "executionInfo": {
          "status": "ok",
          "timestamp": 1733444513142,
          "user_tz": -540,
          "elapsed": 2,
          "user": {
            "displayName": "",
            "userId": ""
          }
        }
      },
      "outputs": [],
      "source": [
        "# Initial split: 80% for training/validation and 20% for testing\n",
        "train_val_size = int(0.8 * len(image_pairs))\n",
        "test_size = len(image_pairs) - train_val_size\n",
        "\n",
        "train_val_image_pairs, test_image_pairs = image_pairs[:train_val_size], image_pairs[train_val_size:]\n",
        "train_val_labels, test_labels = labels[:train_val_size], labels[train_val_size:]\n",
        "\n",
        "# Further split the training/validation set into 90% training and 10% validation\n",
        "train_size = int(0.9 * len(train_val_image_pairs))\n",
        "val_size = len(train_val_image_pairs) - train_size\n",
        "\n",
        "train_image_pairs, val_image_pairs = train_val_image_pairs[:train_size], train_val_image_pairs[train_size:]\n",
        "train_labels, val_labels = train_val_labels[:train_size], train_val_labels[train_size:]"
      ]
    },
    {
      "cell_type": "code",
      "execution_count": 14,
      "metadata": {
        "id": "7PBVSUCqXKcw",
        "executionInfo": {
          "status": "ok",
          "timestamp": 1733444513142,
          "user_tz": -540,
          "elapsed": 2,
          "user": {
            "displayName": "",
            "userId": ""
          }
        }
      },
      "outputs": [],
      "source": [
        "batch_size = 64\n",
        "\n",
        "# Create datasets\n",
        "train_dataset = SiameseFingerprintDataset(train_image_pairs, train_labels, Transforms(augmentation=True))\n",
        "val_dataset = SiameseFingerprintDataset(val_image_pairs, val_labels, Transforms(augmentation=False))\n",
        "test_dataset = SiameseFingerprintDataset(test_image_pairs, test_labels, Transforms(augmentation=False))\n",
        "\n",
        "# Create dataloaders\n",
        "train_loader = DataLoader(train_dataset, batch_size=batch_size, shuffle=True, num_workers=4, pin_memory=True)\n",
        "val_loader = DataLoader(val_dataset, batch_size=batch_size, shuffle=False, num_workers=4, pin_memory=True)\n",
        "test_loader = DataLoader(test_dataset, batch_size=1, shuffle=False, num_workers=4, pin_memory=True)\n"
      ]
    },
    {
      "cell_type": "markdown",
      "metadata": {
        "id": "8b_NCRm4kuAJ"
      },
      "source": [
        "### 모델 학습"
      ]
    },
    {
      "cell_type": "code",
      "execution_count": 60,
      "metadata": {
        "id": "1JqH9Nw1fU99",
        "executionInfo": {
          "status": "ok",
          "timestamp": 1733469004786,
          "user_tz": -540,
          "elapsed": 6,
          "user": {
            "displayName": "",
            "userId": ""
          }
        }
      },
      "outputs": [],
      "source": [
        "# Learning\n",
        "num_epochs = 300\n",
        "patience = 10\n",
        "learning_rate = 1e-4\n",
        "\n",
        "# Loss function\n",
        "margin = 0.8\n",
        "distance_metric = 'cosine' # distance_metric = ['euclidean', 'cosine', 'manhattan', 'mahalanobis', 'dot', 'squared_euclidean']\n",
        "distance_fn = get_distance_metric_function(distance_metric)"
      ]
    },
    {
      "cell_type": "code",
      "execution_count": 61,
      "metadata": {
        "id": "AEADNFmbXKcw",
        "executionInfo": {
          "status": "ok",
          "timestamp": 1733469005118,
          "user_tz": -540,
          "elapsed": 338,
          "user": {
            "displayName": "",
            "userId": ""
          }
        }
      },
      "outputs": [],
      "source": [
        " # Initialize Model, Loss, and Optimizer\n",
        "device = torch.device(\"cuda\" if torch.cuda.is_available() else \"cpu\")\n",
        "model = SiameseDeiTTiny().to(device)\n",
        "criterion = ContrastiveLoss(margin=margin, distance_metric_fn=distance_fn)\n",
        "optimizer = torch.optim.Adam(model.parameters(), lr=learning_rate)"
      ]
    },
    {
      "cell_type": "code",
      "execution_count": 62,
      "metadata": {
        "id": "emqU7voGXKcw",
        "colab": {
          "base_uri": "https://localhost:8080/"
        },
        "executionInfo": {
          "status": "ok",
          "timestamp": 1733476678696,
          "user_tz": -540,
          "elapsed": 7673581,
          "user": {
            "displayName": "",
            "userId": ""
          }
        },
        "outputId": "7258b636-d7db-4b67-b1be-00ab1372bc82"
      },
      "outputs": [
        {
          "output_type": "stream",
          "name": "stdout",
          "text": [
            "Starting Training...\n"
          ]
        },
        {
          "output_type": "stream",
          "name": "stderr",
          "text": [
            "Epoch:   0%|          | 1/300 [03:57<19:43:19, 237.46s/it]"
          ]
        },
        {
          "output_type": "stream",
          "name": "stdout",
          "text": [
            "Training Loss: 0.0542, Validation Loss: 0.0355\n"
          ]
        },
        {
          "output_type": "stream",
          "name": "stderr",
          "text": [
            "\rEpoch:   1%|          | 2/300 [07:49<19:23:53, 234.34s/it]"
          ]
        },
        {
          "output_type": "stream",
          "name": "stdout",
          "text": [
            "Training Loss: 0.0328, Validation Loss: 0.0229\n"
          ]
        },
        {
          "output_type": "stream",
          "name": "stderr",
          "text": [
            "\rEpoch:   1%|          | 3/300 [11:43<19:18:55, 234.13s/it]"
          ]
        },
        {
          "output_type": "stream",
          "name": "stdout",
          "text": [
            "Training Loss: 0.0266, Validation Loss: 0.0188\n"
          ]
        },
        {
          "output_type": "stream",
          "name": "stderr",
          "text": [
            "\rEpoch:   1%|▏         | 4/300 [15:35<19:10:40, 233.24s/it]"
          ]
        },
        {
          "output_type": "stream",
          "name": "stdout",
          "text": [
            "Training Loss: 0.0223, Validation Loss: 0.0166\n"
          ]
        },
        {
          "output_type": "stream",
          "name": "stderr",
          "text": [
            "\rEpoch:   2%|▏         | 5/300 [19:27<19:04:21, 232.75s/it]"
          ]
        },
        {
          "output_type": "stream",
          "name": "stdout",
          "text": [
            "Training Loss: 0.0190, Validation Loss: 0.0141\n"
          ]
        },
        {
          "output_type": "stream",
          "name": "stderr",
          "text": [
            "\rEpoch:   2%|▏         | 6/300 [23:21<19:03:44, 233.42s/it]"
          ]
        },
        {
          "output_type": "stream",
          "name": "stdout",
          "text": [
            "Training Loss: 0.0162, Validation Loss: 0.0141\n"
          ]
        },
        {
          "output_type": "stream",
          "name": "stderr",
          "text": [
            "\rEpoch:   2%|▏         | 7/300 [27:15<19:00:19, 233.51s/it]"
          ]
        },
        {
          "output_type": "stream",
          "name": "stdout",
          "text": [
            "Training Loss: 0.0143, Validation Loss: 0.0114\n"
          ]
        },
        {
          "output_type": "stream",
          "name": "stderr",
          "text": [
            "\rEpoch:   3%|▎         | 8/300 [31:08<18:55:37, 233.35s/it]"
          ]
        },
        {
          "output_type": "stream",
          "name": "stdout",
          "text": [
            "Training Loss: 0.0124, Validation Loss: 0.0117\n"
          ]
        },
        {
          "output_type": "stream",
          "name": "stderr",
          "text": [
            "\rEpoch:   3%|▎         | 9/300 [34:58<18:46:40, 232.30s/it]"
          ]
        },
        {
          "output_type": "stream",
          "name": "stdout",
          "text": [
            "Training Loss: 0.0111, Validation Loss: 0.0097\n"
          ]
        },
        {
          "output_type": "stream",
          "name": "stderr",
          "text": [
            "\rEpoch:   3%|▎         | 10/300 [38:51<18:43:41, 232.49s/it]"
          ]
        },
        {
          "output_type": "stream",
          "name": "stdout",
          "text": [
            "Training Loss: 0.0100, Validation Loss: 0.0108\n"
          ]
        },
        {
          "output_type": "stream",
          "name": "stderr",
          "text": [
            "\rEpoch:   4%|▎         | 11/300 [42:45<18:42:36, 233.07s/it]"
          ]
        },
        {
          "output_type": "stream",
          "name": "stdout",
          "text": [
            "Training Loss: 0.0094, Validation Loss: 0.0092\n"
          ]
        },
        {
          "output_type": "stream",
          "name": "stderr",
          "text": [
            "\rEpoch:   4%|▍         | 12/300 [46:37<18:37:04, 232.72s/it]"
          ]
        },
        {
          "output_type": "stream",
          "name": "stdout",
          "text": [
            "Training Loss: 0.0080, Validation Loss: 0.0077\n"
          ]
        },
        {
          "output_type": "stream",
          "name": "stderr",
          "text": [
            "\rEpoch:   4%|▍         | 13/300 [50:29<18:32:13, 232.52s/it]"
          ]
        },
        {
          "output_type": "stream",
          "name": "stdout",
          "text": [
            "Training Loss: 0.0075, Validation Loss: 0.0082\n"
          ]
        },
        {
          "output_type": "stream",
          "name": "stderr",
          "text": [
            "\rEpoch:   5%|▍         | 14/300 [54:22<18:28:01, 232.45s/it]"
          ]
        },
        {
          "output_type": "stream",
          "name": "stdout",
          "text": [
            "Training Loss: 0.0075, Validation Loss: 0.0080\n"
          ]
        },
        {
          "output_type": "stream",
          "name": "stderr",
          "text": [
            "\rEpoch:   5%|▌         | 15/300 [58:15<18:24:37, 232.55s/it]"
          ]
        },
        {
          "output_type": "stream",
          "name": "stdout",
          "text": [
            "Training Loss: 0.0065, Validation Loss: 0.0091\n"
          ]
        },
        {
          "output_type": "stream",
          "name": "stderr",
          "text": [
            "\rEpoch:   5%|▌         | 16/300 [1:02:06<18:19:35, 232.31s/it]"
          ]
        },
        {
          "output_type": "stream",
          "name": "stdout",
          "text": [
            "Training Loss: 0.0060, Validation Loss: 0.0070\n"
          ]
        },
        {
          "output_type": "stream",
          "name": "stderr",
          "text": [
            "\rEpoch:   6%|▌         | 17/300 [1:06:00<18:17:33, 232.70s/it]"
          ]
        },
        {
          "output_type": "stream",
          "name": "stdout",
          "text": [
            "Training Loss: 0.0048, Validation Loss: 0.0078\n"
          ]
        },
        {
          "output_type": "stream",
          "name": "stderr",
          "text": [
            "\rEpoch:   6%|▌         | 18/300 [1:09:52<18:13:17, 232.62s/it]"
          ]
        },
        {
          "output_type": "stream",
          "name": "stdout",
          "text": [
            "Training Loss: 0.0050, Validation Loss: 0.0071\n"
          ]
        },
        {
          "output_type": "stream",
          "name": "stderr",
          "text": [
            "\rEpoch:   6%|▋         | 19/300 [1:13:46<18:10:51, 232.92s/it]"
          ]
        },
        {
          "output_type": "stream",
          "name": "stdout",
          "text": [
            "Training Loss: 0.0044, Validation Loss: 0.0065\n"
          ]
        },
        {
          "output_type": "stream",
          "name": "stderr",
          "text": [
            "\rEpoch:   7%|▋         | 20/300 [1:17:38<18:06:17, 232.78s/it]"
          ]
        },
        {
          "output_type": "stream",
          "name": "stdout",
          "text": [
            "Training Loss: 0.0044, Validation Loss: 0.0065\n"
          ]
        },
        {
          "output_type": "stream",
          "name": "stderr",
          "text": [
            "\rEpoch:   7%|▋         | 21/300 [1:21:31<18:01:34, 232.60s/it]"
          ]
        },
        {
          "output_type": "stream",
          "name": "stdout",
          "text": [
            "Training Loss: 0.0041, Validation Loss: 0.0087\n"
          ]
        },
        {
          "output_type": "stream",
          "name": "stderr",
          "text": [
            "\rEpoch:   7%|▋         | 22/300 [1:25:22<17:55:28, 232.12s/it]"
          ]
        },
        {
          "output_type": "stream",
          "name": "stdout",
          "text": [
            "Training Loss: 0.0047, Validation Loss: 0.0057\n"
          ]
        },
        {
          "output_type": "stream",
          "name": "stderr",
          "text": [
            "\rEpoch:   8%|▊         | 23/300 [1:29:14<17:52:35, 232.33s/it]"
          ]
        },
        {
          "output_type": "stream",
          "name": "stdout",
          "text": [
            "Training Loss: 0.0038, Validation Loss: 0.0060\n"
          ]
        },
        {
          "output_type": "stream",
          "name": "stderr",
          "text": [
            "\rEpoch:   8%|▊         | 24/300 [1:33:06<17:47:53, 232.15s/it]"
          ]
        },
        {
          "output_type": "stream",
          "name": "stdout",
          "text": [
            "Training Loss: 0.0028, Validation Loss: 0.0067\n"
          ]
        },
        {
          "output_type": "stream",
          "name": "stderr",
          "text": [
            "\rEpoch:   8%|▊         | 25/300 [1:36:58<17:44:01, 232.15s/it]"
          ]
        },
        {
          "output_type": "stream",
          "name": "stdout",
          "text": [
            "Training Loss: 0.0030, Validation Loss: 0.0053\n"
          ]
        },
        {
          "output_type": "stream",
          "name": "stderr",
          "text": [
            "\rEpoch:   9%|▊         | 26/300 [1:40:51<17:41:12, 232.38s/it]"
          ]
        },
        {
          "output_type": "stream",
          "name": "stdout",
          "text": [
            "Training Loss: 0.0032, Validation Loss: 0.0057\n"
          ]
        },
        {
          "output_type": "stream",
          "name": "stderr",
          "text": [
            "\rEpoch:   9%|▉         | 27/300 [1:44:43<17:36:06, 232.11s/it]"
          ]
        },
        {
          "output_type": "stream",
          "name": "stdout",
          "text": [
            "Training Loss: 0.0033, Validation Loss: 0.0057\n"
          ]
        },
        {
          "output_type": "stream",
          "name": "stderr",
          "text": [
            "\rEpoch:   9%|▉         | 28/300 [1:48:34<17:31:39, 231.98s/it]"
          ]
        },
        {
          "output_type": "stream",
          "name": "stdout",
          "text": [
            "Training Loss: 0.0027, Validation Loss: 0.0046\n"
          ]
        },
        {
          "output_type": "stream",
          "name": "stderr",
          "text": [
            "\rEpoch:  10%|▉         | 29/300 [1:52:25<17:26:14, 231.64s/it]"
          ]
        },
        {
          "output_type": "stream",
          "name": "stdout",
          "text": [
            "Training Loss: 0.0023, Validation Loss: 0.0053\n"
          ]
        },
        {
          "output_type": "stream",
          "name": "stderr",
          "text": [
            "\rEpoch:  10%|█         | 30/300 [1:56:17<17:22:53, 231.75s/it]"
          ]
        },
        {
          "output_type": "stream",
          "name": "stdout",
          "text": [
            "Training Loss: 0.0027, Validation Loss: 0.0072\n"
          ]
        },
        {
          "output_type": "stream",
          "name": "stderr",
          "text": [
            "\rEpoch:  10%|█         | 31/300 [2:00:08<17:18:16, 231.59s/it]"
          ]
        },
        {
          "output_type": "stream",
          "name": "stdout",
          "text": [
            "Training Loss: 0.0035, Validation Loss: 0.0054\n"
          ]
        },
        {
          "output_type": "stream",
          "name": "stderr",
          "text": [
            "\rEpoch:  11%|█         | 32/300 [2:04:01<17:15:19, 231.79s/it]"
          ]
        },
        {
          "output_type": "stream",
          "name": "stdout",
          "text": [
            "Training Loss: 0.0028, Validation Loss: 0.0065\n"
          ]
        },
        {
          "output_type": "stream",
          "name": "stderr",
          "text": [
            "\rEpoch:  11%|█         | 32/300 [2:07:53<17:51:05, 239.80s/it]"
          ]
        },
        {
          "output_type": "stream",
          "name": "stdout",
          "text": [
            "Training Loss: 0.0029, Validation Loss: 0.0050\n",
            "Early stopping triggered. Restoring best model state.\n"
          ]
        },
        {
          "output_type": "stream",
          "name": "stderr",
          "text": [
            "\n"
          ]
        }
      ],
      "source": [
        "# Train the model\n",
        "print(\"Starting Training...\")\n",
        "model = train(model, train_loader, val_loader, criterion, optimizer, device, num_epochs=num_epochs)"
      ]
    },
    {
      "cell_type": "code",
      "source": [
        "file_name = f\"model_cr_loss_{distance_metric}_margin_0_8_polyu.pt\"\n",
        "torch.save(model, file_name)"
      ],
      "metadata": {
        "id": "c_iG4D3qrSMb",
        "executionInfo": {
          "status": "ok",
          "timestamp": 1733476678696,
          "user_tz": -540,
          "elapsed": 7,
          "user": {
            "displayName": "",
            "userId": ""
          }
        }
      },
      "execution_count": 63,
      "outputs": []
    },
    {
      "cell_type": "markdown",
      "metadata": {
        "id": "rYkW2mMqkuAJ"
      },
      "source": [
        "### 모델 테스트"
      ]
    },
    {
      "cell_type": "code",
      "execution_count": 64,
      "metadata": {
        "colab": {
          "base_uri": "https://localhost:8080/"
        },
        "executionInfo": {
          "elapsed": 84957,
          "status": "ok",
          "timestamp": 1733476763648,
          "user": {
            "displayName": "",
            "userId": ""
          },
          "user_tz": -540
        },
        "id": "jJqw1UIJXKcw",
        "outputId": "522ea7b6-adec-4bea-c87f-f1e55b123946"
      },
      "outputs": [
        {
          "output_type": "stream",
          "name": "stdout",
          "text": [
            "Testing the model...\n"
          ]
        }
      ],
      "source": [
        "# Test the model\n",
        "print(\"Testing the model...\")\n",
        "model = torch.load(f'model_cr_loss_{distance_metric}_margin_0_8_polyu.pt', map_location=device, weights_only=False)\n",
        "labels, similarities = test_model(model, test_loader, device, distance_metric_fn=distance_fn)"
      ]
    },
    {
      "cell_type": "code",
      "execution_count": 65,
      "metadata": {
        "colab": {
          "base_uri": "https://localhost:8080/",
          "height": 564
        },
        "executionInfo": {
          "elapsed": 466,
          "status": "ok",
          "timestamp": 1733476764103,
          "user": {
            "displayName": "",
            "userId": ""
          },
          "user_tz": -540
        },
        "id": "fMS6hmhGIvxW",
        "outputId": "569ae9e2-cbe4-408b-9c76-aa1e5e6cf068"
      },
      "outputs": [
        {
          "output_type": "display_data",
          "data": {
            "text/plain": [
              "<Figure size 1000x600 with 1 Axes>"
            ],
            "image/png": "[encoded data removed]"
          },
          "metadata": {}
        }
      ],
      "source": [
        "# Define a range of thresholds to test\n",
        "thresholds = np.linspace(0, 1, 100)  # Adjust the range and step size as needed\n",
        "\n",
        "# Lists to store the metrics for each threshold\n",
        "accuracies = []\n",
        "fars = []\n",
        "frrs = []\n",
        "\n",
        "# Loop through each threshold, calculate metrics, and store the results\n",
        "max_accuracy = 0\n",
        "best_threshold = 0\n",
        "for threshold in thresholds:\n",
        "    accuracy, far, frr = evaluate_result(labels, similarities, threshold)\n",
        "    accuracies.append(accuracy)\n",
        "    fars.append(far)\n",
        "    frrs.append(frr)\n",
        "\n",
        "    if accuracy > max_accuracy:\n",
        "        max_accuracy = accuracy\n",
        "        best_threshold = threshold\n",
        "\n",
        "# Plotting\n",
        "plt.figure(figsize=(10, 6))\n",
        "plt.plot(thresholds, np.array(accuracies) * 100, label=\"Accuracy (%)\", color=\"blue\")\n",
        "plt.plot(thresholds, np.array(fars) * 100, label=\"FAR (%)\", color=\"red\")\n",
        "plt.plot(thresholds, np.array(frrs) * 100, label=\"FRR (%)\", color=\"green\")\n",
        "\n",
        "# Adding labels and legend\n",
        "plt.xlabel(\"Threshold\")\n",
        "plt.ylabel(\"Percentage (%)\")\n",
        "plt.title(\"Accuracy, FAR, and FRR vs. Threshold\")\n",
        "plt.legend()\n",
        "plt.grid(True)\n",
        "plt.show()"
      ]
    },
    {
      "cell_type": "code",
      "execution_count": 66,
      "metadata": {
        "colab": {
          "base_uri": "https://localhost:8080/"
        },
        "executionInfo": {
          "elapsed": 9,
          "status": "ok",
          "timestamp": 1733476764104,
          "user": {
            "displayName": "",
            "userId": ""
          },
          "user_tz": -540
        },
        "id": "PR6FqHC0vWfi",
        "outputId": "e90cc9fa-bb4d-42de-9d3a-7328b51e1bb2"
      },
      "outputs": [
        {
          "output_type": "stream",
          "name": "stdout",
          "text": [
            "Best threshold: 0.24242424242424243\n",
            "Accuracy: 99.49%\n",
            "FAR: 0.53%\n",
            "FRR: 0.45%\n"
          ]
        }
      ],
      "source": [
        "accuracy, far, frr = evaluate_result(labels, similarities, best_threshold)\n",
        "\n",
        "print(f\"Best threshold: {best_threshold}\")\n",
        "\n",
        "print(f\"Accuracy: {accuracy * 100:.2f}%\")\n",
        "print(f\"FAR: {far * 100:.2f}%\")\n",
        "print(f\"FRR: {frr * 100:.2f}%\")"
      ]
    },
    {
      "cell_type": "markdown",
      "metadata": {
        "id": "IfggoKv0kuAK"
      },
      "source": [
        "### 모델 ONNX 변환"
      ]
    },
    {
      "cell_type": "code",
      "execution_count": 67,
      "metadata": {
        "colab": {
          "base_uri": "https://localhost:8080/"
        },
        "executionInfo": {
          "elapsed": 1765,
          "status": "ok",
          "timestamp": 1733476766578,
          "user": {
            "displayName": "",
            "userId": ""
          },
          "user_tz": -540
        },
        "id": "9qENyj9it9ac",
        "outputId": "79676aec-8c50-4e93-e1e2-7624e0ff7ccc"
      },
      "outputs": [
        {
          "output_type": "stream",
          "name": "stderr",
          "text": [
            "/usr/local/lib/python3.10/dist-packages/torch/__init__.py:2041: TracerWarning: Converting a tensor to a Python boolean might cause the trace to be incorrect. We can't record the data flow of Python values, so this value will be treated as a constant in the future. This means that the trace might not generalize to other inputs!\n",
            "  assert condition, message\n"
          ]
        }
      ],
      "source": [
        "model.eval()\n",
        "input_shape = (1, 3, 224, 224)  # Example input shape for the model\n",
        "dummy_input1 = torch.randn(input_shape).to(device)\n",
        "dummy_input2 = torch.randn(input_shape).to(device)\n",
        "\n",
        "onnx_model_path = f\"deit_tiny_siamese_polyu_{distance_metric}_margin_0_8.onnx\"  # Specify the path for the ONNX model\n",
        "\n",
        "# Export the model\n",
        "torch.onnx.export(\n",
        "    model,\n",
        "    (dummy_input1, dummy_input2),\n",
        "    onnx_model_path,\n",
        "    opset_version=14,\n",
        "    input_names=[\"input1\", \"input2\"],\n",
        "    output_names=[\"output1\", \"output2\"],\n",
        ")"
      ]
    },
    {
      "cell_type": "code",
      "execution_count": 68,
      "metadata": {
        "colab": {
          "base_uri": "https://localhost:8080/"
        },
        "executionInfo": {
          "elapsed": 3,
          "status": "ok",
          "timestamp": 1733476766579,
          "user": {
            "displayName": "",
            "userId": ""
          },
          "user_tz": -540
        },
        "id": "Niv7SjNC4V5f",
        "outputId": "908ccd37-3e5f-419e-db91-550df605e377"
      },
      "outputs": [
        {
          "output_type": "stream",
          "name": "stdout",
          "text": [
            "Output embedding size: 0.25 KB\n"
          ]
        }
      ],
      "source": [
        "# Load the ONNX model\n",
        "onnx_model = onnx.load(f\"deit_tiny_siamese_polyu_{distance_metric}_margin_0_8.onnx\")\n",
        "\n",
        "# Get the output shape from the model\n",
        "output_shape = onnx_model.graph.output[0].type.tensor_type.shape.dim\n",
        "\n",
        "# Calculate the size of a single element in KB (assuming float32)\n",
        "element_size_kb = 4 / 1024\n",
        "\n",
        "# Calculate the total size of the output embedding in KB\n",
        "output_size_kb = 1\n",
        "for dim in output_shape:\n",
        "    if hasattr(dim, 'dim_value'):\n",
        "        output_size_kb *= dim.dim_value\n",
        "output_size_kb *= element_size_kb\n",
        "\n",
        "print(f\"Output embedding size: {output_size_kb:.2f} KB\")"
      ]
    },
    {
      "cell_type": "code",
      "execution_count": 69,
      "metadata": {
        "colab": {
          "base_uri": "https://localhost:8080/"
        },
        "executionInfo": {
          "elapsed": 4250,
          "status": "ok",
          "timestamp": 1733476770827,
          "user": {
            "displayName": "",
            "userId": ""
          },
          "user_tz": -540
        },
        "id": "QA7Dncsd1ZGr",
        "outputId": "e8d8e7ec-bf32-41ed-e3b1-514d7c896f0a"
      },
      "outputs": [
        {
          "output_type": "stream",
          "name": "stdout",
          "text": [
            "Average Inference Time (ONNX Runtime): 0.0399 seconds\n"
          ]
        }
      ],
      "source": [
        "# Example input shape\n",
        "input_shape = (1, 3, 224, 224)\n",
        "\n",
        "# Optimization Options:\n",
        "options = ort.SessionOptions()\n",
        "options.optimized_model_filepath = f\"optimized_deit_tiny_siamese_polyu_{distance_metric}_margin_0_8.onnx\"\n",
        "options.execution_mode = ort.ExecutionMode.ORT_SEQUENTIAL\n",
        "options.graph_optimization_level = ort.GraphOptimizationLevel.ORT_ENABLE_ALL\n",
        "options.enable_cpu_mem_arena = True\n",
        "options.enable_mem_pattern = True\n",
        "\n",
        "ort_session = ort.InferenceSession(f\"deit_tiny_siamese_polyu_{distance_metric}_margin_0_8.onnx\",\n",
        "                                   sess_options=options)\n",
        "\n",
        "# Benchmarking:\n",
        "num_runs = 100  # Number of runs for benchmarking\n",
        "dummy_input1 = torch.randn(input_shape).numpy()  # Example input\n",
        "dummy_input2 = torch.randn(input_shape).numpy()\n",
        "\n",
        "# Warm-up run\n",
        "ort_session.run(None, {\"input1\": dummy_input1, \"input2\": dummy_input2})\n",
        "\n",
        "# Measure inference time\n",
        "start_time = time.time()\n",
        "for _ in range(num_runs):\n",
        "    ort_session.run(None, {\"input1\": dummy_input1, \"input2\": dummy_input2})\n",
        "end_time = time.time()\n",
        "\n",
        "# Calculate and print average inference time\n",
        "avg_inference_time = (end_time - start_time) / num_runs\n",
        "print(f\"Average Inference Time (ONNX Runtime): {avg_inference_time:.4f} seconds\")"
      ]
    },
    {
      "cell_type": "code",
      "execution_count": 70,
      "metadata": {
        "colab": {
          "base_uri": "https://localhost:8080/"
        },
        "executionInfo": {
          "elapsed": 275550,
          "status": "ok",
          "timestamp": 1733477046375,
          "user": {
            "displayName": "",
            "userId": ""
          },
          "user_tz": -540
        },
        "id": "nRzaR0xm0CVN",
        "outputId": "70331c86-ae7b-4c1a-e037-061ea20a6e45"
      },
      "outputs": [
        {
          "output_type": "stream",
          "name": "stderr",
          "text": [
            "Evaluating ONNX Model: 100%|██████████| 5488/5488 [04:35<00:00, 19.91it/s]"
          ]
        },
        {
          "output_type": "stream",
          "name": "stdout",
          "text": [
            "ONNX Accuracy: 99.49%\n"
          ]
        },
        {
          "output_type": "stream",
          "name": "stderr",
          "text": [
            "\n"
          ]
        }
      ],
      "source": [
        "def run_inference_onnx(img1, img2):\n",
        "    # Ensure the inputs are on the correct device and have the correct shape\n",
        "    img1 = img1.cpu().numpy() if isinstance(img1, torch.Tensor) else img1\n",
        "    img2 = img2.cpu().numpy() if isinstance(img2, torch.Tensor) else img2\n",
        "\n",
        "    # Run inference using ONNX Runtime\n",
        "    ort_inputs = {\"input1\": img1, \"input2\": img2}\n",
        "    ort_outs = ort_session.run(None, ort_inputs)\n",
        "\n",
        "    return ort_outs\n",
        "\n",
        "def evaluate_onnx_model(test_loader, threshold, distance_metric_fn):\n",
        "    onnx_predictions = []\n",
        "    labels = []\n",
        "\n",
        "    for img1, img2, label in tqdm(test_loader, desc=\"Evaluating ONNX Model\"):\n",
        "        img1, img2 = img1.to(device), img2.to(device)\n",
        "\n",
        "        # ONNX inference\n",
        "        ort_outs = run_inference_onnx(img1, img2)\n",
        "        onnx_similarity = distance_metric_fn(torch.tensor(ort_outs[0]), torch.tensor(ort_outs[1]))\n",
        "\n",
        "        # Apply threshold\n",
        "        onnx_prediction = 1 if onnx_similarity.cpu().numpy() <= threshold else -1\n",
        "        onnx_predictions.append(onnx_prediction)\n",
        "        labels.append(label.item())\n",
        "\n",
        "    onnx_accuracy = accuracy_score(labels, onnx_predictions)\n",
        "    return onnx_accuracy\n",
        "\n",
        "# Evaluate ONNX model\n",
        "onnx_accuracy = evaluate_onnx_model(test_loader, best_threshold, distance_fn)\n",
        "print(f\"ONNX Accuracy: {onnx_accuracy * 100:.2f}%\")"
      ]
    },
    {
      "cell_type": "code",
      "source": [],
      "metadata": {
        "id": "Z-Ak1aWZGJEl"
      },
      "execution_count": null,
      "outputs": []
    }
  ],
  "metadata": {
    "colab": {
      "name": "test_vit.ipynb",
      "provenance": []
    },
    "kernelspec": {
      "display_name": "Python 3 (ipykernel)",
      "language": "python",
      "name": "python3"
    },
    "language_info": {
      "codemirror_mode": {
        "name": "ipython",
        "version": 3
      },
      "file_extension": ".py",
      "mimetype": "text/x-python",
      "name": "python",
      "nbconvert_exporter": "python",
      "pygments_lexer": "ipython3",
      "version": "3.10.9"
    },
    "widgets": {
      "application/vnd.jupyter.widget-state+json": {
        "41e5c982611a4f9682bf7444b3f6b75e": {
          "model_module": "@jupyter-widgets/controls",
          "model_name": "VBoxModel",
          "model_module_version": "1.5.0",
          "state": {
            "_dom_classes": [],
            "_model_module": "@jupyter-widgets/controls",
            "_model_module_version": "1.5.0",
            "_model_name": "VBoxModel",
            "_view_count": null,
            "_view_module": "@jupyter-widgets/controls",
            "_view_module_version": "1.5.0",
            "_view_name": "VBoxView",
            "box_style": "",
            "children": [
              "IPY_MODEL_ae520ce20bca47adb6bce8d5aec8fbcf",
              "IPY_MODEL_df0a2834f12e4c58832b5a9367f90ac3",
              "IPY_MODEL_4f12b5edf58f4dd7a234a3d47e4a6c51",
              "IPY_MODEL_27e49dfa201a48a5ac7fa1c4f8fd1966"
            ],
            "layout": "IPY_MODEL_0edf41d4febd4f538449b43b23e56bbc"
          }
        },
        "8d03d580c10c4f97b62ac1af0735fdd2": {
          "model_module": "@jupyter-widgets/controls",
          "model_name": "HTMLModel",
          "model_module_version": "1.5.0",
          "state": {
            "_dom_classes": [],
            "_model_module": "@jupyter-widgets/controls",
            "_model_module_version": "1.5.0",
            "_model_name": "HTMLModel",
            "_view_count": null,
            "_view_module": "@jupyter-widgets/controls",
            "_view_module_version": "1.5.0",
            "_view_name": "HTMLView",
            "description": "",
            "description_tooltip": null,
            "layout": "IPY_MODEL_a1cfd499dddc433ca9cdd88ed7ed54b0",
            "placeholder": "​",
            "style": "IPY_MODEL_18d7897109224bcdbe207da687a62a3c",
            "value": "<center> <img\nsrc=https://huggingface.co/front/assets/huggingface_logo-noborder.svg\nalt='Hugging Face'> <br> Copy a token from <a\nhref=\"https://huggingface.co/settings/tokens\" target=\"_blank\">your Hugging Face\ntokens page</a> and paste it below. <br> Immediately click login after copying\nyour token or it might be stored in plain text in this notebook file. </center>"
          }
        },
        "c9909737ae2c47ecb0111c848deb3e3b": {
          "model_module": "@jupyter-widgets/controls",
          "model_name": "PasswordModel",
          "model_module_version": "1.5.0",
          "state": {
            "_dom_classes": [],
            "_model_module": "@jupyter-widgets/controls",
            "_model_module_version": "1.5.0",
            "_model_name": "PasswordModel",
            "_view_count": null,
            "_view_module": "@jupyter-widgets/controls",
            "_view_module_version": "1.5.0",
            "_view_name": "PasswordView",
            "continuous_update": true,
            "description": "Token:",
            "description_tooltip": null,
            "disabled": false,
            "layout": "IPY_MODEL_c31875a636534e4b8142d08f981bc6a5",
            "placeholder": "​",
            "style": "IPY_MODEL_4dbe15b978e04a5c8f6d8eabf4876db5",
            "value": ""
          }
        },
        "5ab2400380a74392997989e8356e9781": {
          "model_module": "@jupyter-widgets/controls",
          "model_name": "CheckboxModel",
          "model_module_version": "1.5.0",
          "state": {
            "_dom_classes": [],
            "_model_module": "@jupyter-widgets/controls",
            "_model_module_version": "1.5.0",
            "_model_name": "CheckboxModel",
            "_view_count": null,
            "_view_module": "@jupyter-widgets/controls",
            "_view_module_version": "1.5.0",
            "_view_name": "CheckboxView",
            "description": "Add token as git credential?",
            "description_tooltip": null,
            "disabled": false,
            "indent": true,
            "layout": "IPY_MODEL_82ec69c8862c42a682cd4c991b15b034",
            "style": "IPY_MODEL_1d8c295c08df4f30be299e5ee7630931",
            "value": true
          }
        },
        "8cf533c8735f41ceb7a7cbf9e083f621": {
          "model_module": "@jupyter-widgets/controls",
          "model_name": "ButtonModel",
          "model_module_version": "1.5.0",
          "state": {
            "_dom_classes": [],
            "_model_module": "@jupyter-widgets/controls",
            "_model_module_version": "1.5.0",
            "_model_name": "ButtonModel",
            "_view_count": null,
            "_view_module": "@jupyter-widgets/controls",
            "_view_module_version": "1.5.0",
            "_view_name": "ButtonView",
            "button_style": "",
            "description": "Login",
            "disabled": false,
            "icon": "",
            "layout": "IPY_MODEL_d3250e7e5e4b487e88186a645872873c",
            "style": "IPY_MODEL_8ffcde929372454fb4e29fbd7c533b8a",
            "tooltip": ""
          }
        },
        "3a2c07c3e6b34aa79d327d2af80d3627": {
          "model_module": "@jupyter-widgets/controls",
          "model_name": "HTMLModel",
          "model_module_version": "1.5.0",
          "state": {
            "_dom_classes": [],
            "_model_module": "@jupyter-widgets/controls",
            "_model_module_version": "1.5.0",
            "_model_name": "HTMLModel",
            "_view_count": null,
            "_view_module": "@jupyter-widgets/controls",
            "_view_module_version": "1.5.0",
            "_view_name": "HTMLView",
            "description": "",
            "description_tooltip": null,
            "layout": "IPY_MODEL_21010c94c84c414ba30278d14c91d35c",
            "placeholder": "​",
            "style": "IPY_MODEL_5af68fb507bf408d8153e7aeecc7f0e9",
            "value": "\n<b>Pro Tip:</b> If you don't already have one, you can create a dedicated\n'notebooks' token with 'write' access, that you can then easily reuse for all\nnotebooks. </center>"
          }
        },
        "0edf41d4febd4f538449b43b23e56bbc": {
          "model_module": "@jupyter-widgets/base",
          "model_name": "LayoutModel",
          "model_module_version": "1.2.0",
          "state": {
            "_model_module": "@jupyter-widgets/base",
            "_model_module_version": "1.2.0",
            "_model_name": "LayoutModel",
            "_view_count": null,
            "_view_module": "@jupyter-widgets/base",
            "_view_module_version": "1.2.0",
            "_view_name": "LayoutView",
            "align_content": null,
            "align_items": "center",
            "align_self": null,
            "border": null,
            "bottom": null,
            "display": "flex",
            "flex": null,
            "flex_flow": "column",
            "grid_area": null,
            "grid_auto_columns": null,
            "grid_auto_flow": null,
            "grid_auto_rows": null,
            "grid_column": null,
            "grid_gap": null,
            "grid_row": null,
            "grid_template_areas": null,
            "grid_template_columns": null,
            "grid_template_rows": null,
            "height": null,
            "justify_content": null,
            "justify_items": null,
            "left": null,
            "margin": null,
            "max_height": null,
            "max_width": null,
            "min_height": null,
            "min_width": null,
            "object_fit": null,
            "object_position": null,
            "order": null,
            "overflow": null,
            "overflow_x": null,
            "overflow_y": null,
            "padding": null,
            "right": null,
            "top": null,
            "visibility": null,
            "width": "50%"
          }
        },
        "a1cfd499dddc433ca9cdd88ed7ed54b0": {
          "model_module": "@jupyter-widgets/base",
          "model_name": "LayoutModel",
          "model_module_version": "1.2.0",
          "state": {
            "_model_module": "@jupyter-widgets/base",
            "_model_module_version": "1.2.0",
            "_model_name": "LayoutModel",
            "_view_count": null,
            "_view_module": "@jupyter-widgets/base",
            "_view_module_version": "1.2.0",
            "_view_name": "LayoutView",
            "align_content": null,
            "align_items": null,
            "align_self": null,
            "border": null,
            "bottom": null,
            "display": null,
            "flex": null,
            "flex_flow": null,
            "grid_area": null,
            "grid_auto_columns": null,
            "grid_auto_flow": null,
            "grid_auto_rows": null,
            "grid_column": null,
            "grid_gap": null,
            "grid_row": null,
            "grid_template_areas": null,
            "grid_template_columns": null,
            "grid_template_rows": null,
            "height": null,
            "justify_content": null,
            "justify_items": null,
            "left": null,
            "margin": null,
            "max_height": null,
            "max_width": null,
            "min_height": null,
            "min_width": null,
            "object_fit": null,
            "object_position": null,
            "order": null,
            "overflow": null,
            "overflow_x": null,
            "overflow_y": null,
            "padding": null,
            "right": null,
            "top": null,
            "visibility": null,
            "width": null
          }
        },
        "18d7897109224bcdbe207da687a62a3c": {
          "model_module": "@jupyter-widgets/controls",
          "model_name": "DescriptionStyleModel",
          "model_module_version": "1.5.0",
          "state": {
            "_model_module": "@jupyter-widgets/controls",
            "_model_module_version": "1.5.0",
            "_model_name": "DescriptionStyleModel",
            "_view_count": null,
            "_view_module": "@jupyter-widgets/base",
            "_view_module_version": "1.2.0",
            "_view_name": "StyleView",
            "description_width": ""
          }
        },
        "c31875a636534e4b8142d08f981bc6a5": {
          "model_module": "@jupyter-widgets/base",
          "model_name": "LayoutModel",
          "model_module_version": "1.2.0",
          "state": {
            "_model_module": "@jupyter-widgets/base",
            "_model_module_version": "1.2.0",
            "_model_name": "LayoutModel",
            "_view_count": null,
            "_view_module": "@jupyter-widgets/base",
            "_view_module_version": "1.2.0",
            "_view_name": "LayoutView",
            "align_content": null,
            "align_items": null,
            "align_self": null,
            "border": null,
            "bottom": null,
            "display": null,
            "flex": null,
            "flex_flow": null,
            "grid_area": null,
            "grid_auto_columns": null,
            "grid_auto_flow": null,
            "grid_auto_rows": null,
            "grid_column": null,
            "grid_gap": null,
            "grid_row": null,
            "grid_template_areas": null,
            "grid_template_columns": null,
            "grid_template_rows": null,
            "height": null,
            "justify_content": null,
            "justify_items": null,
            "left": null,
            "margin": null,
            "max_height": null,
            "max_width": null,
            "min_height": null,
            "min_width": null,
            "object_fit": null,
            "object_position": null,
            "order": null,
            "overflow": null,
            "overflow_x": null,
            "overflow_y": null,
            "padding": null,
            "right": null,
            "top": null,
            "visibility": null,
            "width": null
          }
        },
        "4dbe15b978e04a5c8f6d8eabf4876db5": {
          "model_module": "@jupyter-widgets/controls",
          "model_name": "DescriptionStyleModel",
          "model_module_version": "1.5.0",
          "state": {
            "_model_module": "@jupyter-widgets/controls",
            "_model_module_version": "1.5.0",
            "_model_name": "DescriptionStyleModel",
            "_view_count": null,
            "_view_module": "@jupyter-widgets/base",
            "_view_module_version": "1.2.0",
            "_view_name": "StyleView",
            "description_width": ""
          }
        },
        "82ec69c8862c42a682cd4c991b15b034": {
          "model_module": "@jupyter-widgets/base",
          "model_name": "LayoutModel",
          "model_module_version": "1.2.0",
          "state": {
            "_model_module": "@jupyter-widgets/base",
            "_model_module_version": "1.2.0",
            "_model_name": "LayoutModel",
            "_view_count": null,
            "_view_module": "@jupyter-widgets/base",
            "_view_module_version": "1.2.0",
            "_view_name": "LayoutView",
            "align_content": null,
            "align_items": null,
            "align_self": null,
            "border": null,
            "bottom": null,
            "display": null,
            "flex": null,
            "flex_flow": null,
            "grid_area": null,
            "grid_auto_columns": null,
            "grid_auto_flow": null,
            "grid_auto_rows": null,
            "grid_column": null,
            "grid_gap": null,
            "grid_row": null,
            "grid_template_areas": null,
            "grid_template_columns": null,
            "grid_template_rows": null,
            "height": null,
            "justify_content": null,
            "justify_items": null,
            "left": null,
            "margin": null,
            "max_height": null,
            "max_width": null,
            "min_height": null,
            "min_width": null,
            "object_fit": null,
            "object_position": null,
            "order": null,
            "overflow": null,
            "overflow_x": null,
            "overflow_y": null,
            "padding": null,
            "right": null,
            "top": null,
            "visibility": null,
            "width": null
          }
        },
        "1d8c295c08df4f30be299e5ee7630931": {
          "model_module": "@jupyter-widgets/controls",
          "model_name": "DescriptionStyleModel",
          "model_module_version": "1.5.0",
          "state": {
            "_model_module": "@jupyter-widgets/controls",
            "_model_module_version": "1.5.0",
            "_model_name": "DescriptionStyleModel",
            "_view_count": null,
            "_view_module": "@jupyter-widgets/base",
            "_view_module_version": "1.2.0",
            "_view_name": "StyleView",
            "description_width": ""
          }
        },
        "d3250e7e5e4b487e88186a645872873c": {
          "model_module": "@jupyter-widgets/base",
          "model_name": "LayoutModel",
          "model_module_version": "1.2.0",
          "state": {
            "_model_module": "@jupyter-widgets/base",
            "_model_module_version": "1.2.0",
            "_model_name": "LayoutModel",
            "_view_count": null,
            "_view_module": "@jupyter-widgets/base",
            "_view_module_version": "1.2.0",
            "_view_name": "LayoutView",
            "align_content": null,
            "align_items": null,
            "align_self": null,
            "border": null,
            "bottom": null,
            "display": null,
            "flex": null,
            "flex_flow": null,
            "grid_area": null,
            "grid_auto_columns": null,
            "grid_auto_flow": null,
            "grid_auto_rows": null,
            "grid_column": null,
            "grid_gap": null,
            "grid_row": null,
            "grid_template_areas": null,
            "grid_template_columns": null,
            "grid_template_rows": null,
            "height": null,
            "justify_content": null,
            "justify_items": null,
            "left": null,
            "margin": null,
            "max_height": null,
            "max_width": null,
            "min_height": null,
            "min_width": null,
            "object_fit": null,
            "object_position": null,
            "order": null,
            "overflow": null,
            "overflow_x": null,
            "overflow_y": null,
            "padding": null,
            "right": null,
            "top": null,
            "visibility": null,
            "width": null
          }
        },
        "8ffcde929372454fb4e29fbd7c533b8a": {
          "model_module": "@jupyter-widgets/controls",
          "model_name": "ButtonStyleModel",
          "model_module_version": "1.5.0",
          "state": {
            "_model_module": "@jupyter-widgets/controls",
            "_model_module_version": "1.5.0",
            "_model_name": "ButtonStyleModel",
            "_view_count": null,
            "_view_module": "@jupyter-widgets/base",
            "_view_module_version": "1.2.0",
            "_view_name": "StyleView",
            "button_color": null,
            "font_weight": ""
          }
        },
        "21010c94c84c414ba30278d14c91d35c": {
          "model_module": "@jupyter-widgets/base",
          "model_name": "LayoutModel",
          "model_module_version": "1.2.0",
          "state": {
            "_model_module": "@jupyter-widgets/base",
            "_model_module_version": "1.2.0",
            "_model_name": "LayoutModel",
            "_view_count": null,
            "_view_module": "@jupyter-widgets/base",
            "_view_module_version": "1.2.0",
            "_view_name": "LayoutView",
            "align_content": null,
            "align_items": null,
            "align_self": null,
            "border": null,
            "bottom": null,
            "display": null,
            "flex": null,
            "flex_flow": null,
            "grid_area": null,
            "grid_auto_columns": null,
            "grid_auto_flow": null,
            "grid_auto_rows": null,
            "grid_column": null,
            "grid_gap": null,
            "grid_row": null,
            "grid_template_areas": null,
            "grid_template_columns": null,
            "grid_template_rows": null,
            "height": null,
            "justify_content": null,
            "justify_items": null,
            "left": null,
            "margin": null,
            "max_height": null,
            "max_width": null,
            "min_height": null,
            "min_width": null,
            "object_fit": null,
            "object_position": null,
            "order": null,
            "overflow": null,
            "overflow_x": null,
            "overflow_y": null,
            "padding": null,
            "right": null,
            "top": null,
            "visibility": null,
            "width": null
          }
        },
        "5af68fb507bf408d8153e7aeecc7f0e9": {
          "model_module": "@jupyter-widgets/controls",
          "model_name": "DescriptionStyleModel",
          "model_module_version": "1.5.0",
          "state": {
            "_model_module": "@jupyter-widgets/controls",
            "_model_module_version": "1.5.0",
            "_model_name": "DescriptionStyleModel",
            "_view_count": null,
            "_view_module": "@jupyter-widgets/base",
            "_view_module_version": "1.2.0",
            "_view_name": "StyleView",
            "description_width": ""
          }
        },
        "a28715fe90a54c448449ffd7916c97ec": {
          "model_module": "@jupyter-widgets/controls",
          "model_name": "LabelModel",
          "model_module_version": "1.5.0",
          "state": {
            "_dom_classes": [],
            "_model_module": "@jupyter-widgets/controls",
            "_model_module_version": "1.5.0",
            "_model_name": "LabelModel",
            "_view_count": null,
            "_view_module": "@jupyter-widgets/controls",
            "_view_module_version": "1.5.0",
            "_view_name": "LabelView",
            "description": "",
            "description_tooltip": null,
            "layout": "IPY_MODEL_2423deeb68cc4d2fbc394d83aa0f7e45",
            "placeholder": "​",
            "style": "IPY_MODEL_ed0ef5632fec4204b64ad8f32cc6c9aa",
            "value": "Connecting..."
          }
        },
        "2423deeb68cc4d2fbc394d83aa0f7e45": {
          "model_module": "@jupyter-widgets/base",
          "model_name": "LayoutModel",
          "model_module_version": "1.2.0",
          "state": {
            "_model_module": "@jupyter-widgets/base",
            "_model_module_version": "1.2.0",
            "_model_name": "LayoutModel",
            "_view_count": null,
            "_view_module": "@jupyter-widgets/base",
            "_view_module_version": "1.2.0",
            "_view_name": "LayoutView",
            "align_content": null,
            "align_items": null,
            "align_self": null,
            "border": null,
            "bottom": null,
            "display": null,
            "flex": null,
            "flex_flow": null,
            "grid_area": null,
            "grid_auto_columns": null,
            "grid_auto_flow": null,
            "grid_auto_rows": null,
            "grid_column": null,
            "grid_gap": null,
            "grid_row": null,
            "grid_template_areas": null,
            "grid_template_columns": null,
            "grid_template_rows": null,
            "height": null,
            "justify_content": null,
            "justify_items": null,
            "left": null,
            "margin": null,
            "max_height": null,
            "max_width": null,
            "min_height": null,
            "min_width": null,
            "object_fit": null,
            "object_position": null,
            "order": null,
            "overflow": null,
            "overflow_x": null,
            "overflow_y": null,
            "padding": null,
            "right": null,
            "top": null,
            "visibility": null,
            "width": null
          }
        },
        "ed0ef5632fec4204b64ad8f32cc6c9aa": {
          "model_module": "@jupyter-widgets/controls",
          "model_name": "DescriptionStyleModel",
          "model_module_version": "1.5.0",
          "state": {
            "_model_module": "@jupyter-widgets/controls",
            "_model_module_version": "1.5.0",
            "_model_name": "DescriptionStyleModel",
            "_view_count": null,
            "_view_module": "@jupyter-widgets/base",
            "_view_module_version": "1.2.0",
            "_view_name": "StyleView",
            "description_width": ""
          }
        },
        "ae520ce20bca47adb6bce8d5aec8fbcf": {
          "model_module": "@jupyter-widgets/controls",
          "model_name": "LabelModel",
          "model_module_version": "1.5.0",
          "state": {
            "_dom_classes": [],
            "_model_module": "@jupyter-widgets/controls",
            "_model_module_version": "1.5.0",
            "_model_name": "LabelModel",
            "_view_count": null,
            "_view_module": "@jupyter-widgets/controls",
            "_view_module_version": "1.5.0",
            "_view_name": "LabelView",
            "description": "",
            "description_tooltip": null,
            "layout": "IPY_MODEL_8c16d20163b94fe887d462073c4695e8",
            "placeholder": "​",
            "style": "IPY_MODEL_a0c49706cc314802a96d8f61a54167ef",
            "value": "Token is valid (permission: read)."
          }
        },
        "df0a2834f12e4c58832b5a9367f90ac3": {
          "model_module": "@jupyter-widgets/controls",
          "model_name": "LabelModel",
          "model_module_version": "1.5.0",
          "state": {
            "_dom_classes": [],
            "_model_module": "@jupyter-widgets/controls",
            "_model_module_version": "1.5.0",
            "_model_name": "LabelModel",
            "_view_count": null,
            "_view_module": "@jupyter-widgets/controls",
            "_view_module_version": "1.5.0",
            "_view_name": "LabelView",
            "description": "",
            "description_tooltip": null,
            "layout": "IPY_MODEL_74639efb6e394d3d90cea898313ba1ba",
            "placeholder": "​",
            "style": "IPY_MODEL_fcb8319bd42a434cb3558c8115508ab9",
            "value": "Your token has been saved in your configured git credential helpers (store)."
          }
        },
        "4f12b5edf58f4dd7a234a3d47e4a6c51": {
          "model_module": "@jupyter-widgets/controls",
          "model_name": "LabelModel",
          "model_module_version": "1.5.0",
          "state": {
            "_dom_classes": [],
            "_model_module": "@jupyter-widgets/controls",
            "_model_module_version": "1.5.0",
            "_model_name": "LabelModel",
            "_view_count": null,
            "_view_module": "@jupyter-widgets/controls",
            "_view_module_version": "1.5.0",
            "_view_name": "LabelView",
            "description": "",
            "description_tooltip": null,
            "layout": "IPY_MODEL_8ceeff1994234af7aec4b08f70964f0a",
            "placeholder": "​",
            "style": "IPY_MODEL_ea4bda355837434d9259b2a1e697b48e",
            "value": "Your token has been saved to /root/.cache/huggingface/token"
          }
        },
        "27e49dfa201a48a5ac7fa1c4f8fd1966": {
          "model_module": "@jupyter-widgets/controls",
          "model_name": "LabelModel",
          "model_module_version": "1.5.0",
          "state": {
            "_dom_classes": [],
            "_model_module": "@jupyter-widgets/controls",
            "_model_module_version": "1.5.0",
            "_model_name": "LabelModel",
            "_view_count": null,
            "_view_module": "@jupyter-widgets/controls",
            "_view_module_version": "1.5.0",
            "_view_name": "LabelView",
            "description": "",
            "description_tooltip": null,
            "layout": "IPY_MODEL_7ed3cfb15c024fa7b47047599986928e",
            "placeholder": "​",
            "style": "IPY_MODEL_86803f4ff0a044aba790733498f4b268",
            "value": "Login successful"
          }
        },
        "8c16d20163b94fe887d462073c4695e8": {
          "model_module": "@jupyter-widgets/base",
          "model_name": "LayoutModel",
          "model_module_version": "1.2.0",
          "state": {
            "_model_module": "@jupyter-widgets/base",
            "_model_module_version": "1.2.0",
            "_model_name": "LayoutModel",
            "_view_count": null,
            "_view_module": "@jupyter-widgets/base",
            "_view_module_version": "1.2.0",
            "_view_name": "LayoutView",
            "align_content": null,
            "align_items": null,
            "align_self": null,
            "border": null,
            "bottom": null,
            "display": null,
            "flex": null,
            "flex_flow": null,
            "grid_area": null,
            "grid_auto_columns": null,
            "grid_auto_flow": null,
            "grid_auto_rows": null,
            "grid_column": null,
            "grid_gap": null,
            "grid_row": null,
            "grid_template_areas": null,
            "grid_template_columns": null,
            "grid_template_rows": null,
            "height": null,
            "justify_content": null,
            "justify_items": null,
            "left": null,
            "margin": null,
            "max_height": null,
            "max_width": null,
            "min_height": null,
            "min_width": null,
            "object_fit": null,
            "object_position": null,
            "order": null,
            "overflow": null,
            "overflow_x": null,
            "overflow_y": null,
            "padding": null,
            "right": null,
            "top": null,
            "visibility": null,
            "width": null
          }
        },
        "a0c49706cc314802a96d8f61a54167ef": {
          "model_module": "@jupyter-widgets/controls",
          "model_name": "DescriptionStyleModel",
          "model_module_version": "1.5.0",
          "state": {
            "_model_module": "@jupyter-widgets/controls",
            "_model_module_version": "1.5.0",
            "_model_name": "DescriptionStyleModel",
            "_view_count": null,
            "_view_module": "@jupyter-widgets/base",
            "_view_module_version": "1.2.0",
            "_view_name": "StyleView",
            "description_width": ""
          }
        },
        "74639efb6e394d3d90cea898313ba1ba": {
          "model_module": "@jupyter-widgets/base",
          "model_name": "LayoutModel",
          "model_module_version": "1.2.0",
          "state": {
            "_model_module": "@jupyter-widgets/base",
            "_model_module_version": "1.2.0",
            "_model_name": "LayoutModel",
            "_view_count": null,
            "_view_module": "@jupyter-widgets/base",
            "_view_module_version": "1.2.0",
            "_view_name": "LayoutView",
            "align_content": null,
            "align_items": null,
            "align_self": null,
            "border": null,
            "bottom": null,
            "display": null,
            "flex": null,
            "flex_flow": null,
            "grid_area": null,
            "grid_auto_columns": null,
            "grid_auto_flow": null,
            "grid_auto_rows": null,
            "grid_column": null,
            "grid_gap": null,
            "grid_row": null,
            "grid_template_areas": null,
            "grid_template_columns": null,
            "grid_template_rows": null,
            "height": null,
            "justify_content": null,
            "justify_items": null,
            "left": null,
            "margin": null,
            "max_height": null,
            "max_width": null,
            "min_height": null,
            "min_width": null,
            "object_fit": null,
            "object_position": null,
            "order": null,
            "overflow": null,
            "overflow_x": null,
            "overflow_y": null,
            "padding": null,
            "right": null,
            "top": null,
            "visibility": null,
            "width": null
          }
        },
        "fcb8319bd42a434cb3558c8115508ab9": {
          "model_module": "@jupyter-widgets/controls",
          "model_name": "DescriptionStyleModel",
          "model_module_version": "1.5.0",
          "state": {
            "_model_module": "@jupyter-widgets/controls",
            "_model_module_version": "1.5.0",
            "_model_name": "DescriptionStyleModel",
            "_view_count": null,
            "_view_module": "@jupyter-widgets/base",
            "_view_module_version": "1.2.0",
            "_view_name": "StyleView",
            "description_width": ""
          }
        },
        "8ceeff1994234af7aec4b08f70964f0a": {
          "model_module": "@jupyter-widgets/base",
          "model_name": "LayoutModel",
          "model_module_version": "1.2.0",
          "state": {
            "_model_module": "@jupyter-widgets/base",
            "_model_module_version": "1.2.0",
            "_model_name": "LayoutModel",
            "_view_count": null,
            "_view_module": "@jupyter-widgets/base",
            "_view_module_version": "1.2.0",
            "_view_name": "LayoutView",
            "align_content": null,
            "align_items": null,
            "align_self": null,
            "border": null,
            "bottom": null,
            "display": null,
            "flex": null,
            "flex_flow": null,
            "grid_area": null,
            "grid_auto_columns": null,
            "grid_auto_flow": null,
            "grid_auto_rows": null,
            "grid_column": null,
            "grid_gap": null,
            "grid_row": null,
            "grid_template_areas": null,
            "grid_template_columns": null,
            "grid_template_rows": null,
            "height": null,
            "justify_content": null,
            "justify_items": null,
            "left": null,
            "margin": null,
            "max_height": null,
            "max_width": null,
            "min_height": null,
            "min_width": null,
            "object_fit": null,
            "object_position": null,
            "order": null,
            "overflow": null,
            "overflow_x": null,
            "overflow_y": null,
            "padding": null,
            "right": null,
            "top": null,
            "visibility": null,
            "width": null
          }
        },
        "ea4bda355837434d9259b2a1e697b48e": {
          "model_module": "@jupyter-widgets/controls",
          "model_name": "DescriptionStyleModel",
          "model_module_version": "1.5.0",
          "state": {
            "_model_module": "@jupyter-widgets/controls",
            "_model_module_version": "1.5.0",
            "_model_name": "DescriptionStyleModel",
            "_view_count": null,
            "_view_module": "@jupyter-widgets/base",
            "_view_module_version": "1.2.0",
            "_view_name": "StyleView",
            "description_width": ""
          }
        },
        "7ed3cfb15c024fa7b47047599986928e": {
          "model_module": "@jupyter-widgets/base",
          "model_name": "LayoutModel",
          "model_module_version": "1.2.0",
          "state": {
            "_model_module": "@jupyter-widgets/base",
            "_model_module_version": "1.2.0",
            "_model_name": "LayoutModel",
            "_view_count": null,
            "_view_module": "@jupyter-widgets/base",
            "_view_module_version": "1.2.0",
            "_view_name": "LayoutView",
            "align_content": null,
            "align_items": null,
            "align_self": null,
            "border": null,
            "bottom": null,
            "display": null,
            "flex": null,
            "flex_flow": null,
            "grid_area": null,
            "grid_auto_columns": null,
            "grid_auto_flow": null,
            "grid_auto_rows": null,
            "grid_column": null,
            "grid_gap": null,
            "grid_row": null,
            "grid_template_areas": null,
            "grid_template_columns": null,
            "grid_template_rows": null,
            "height": null,
            "justify_content": null,
            "justify_items": null,
            "left": null,
            "margin": null,
            "max_height": null,
            "max_width": null,
            "min_height": null,
            "min_width": null,
            "object_fit": null,
            "object_position": null,
            "order": null,
            "overflow": null,
            "overflow_x": null,
            "overflow_y": null,
            "padding": null,
            "right": null,
            "top": null,
            "visibility": null,
            "width": null
          }
        },
        "86803f4ff0a044aba790733498f4b268": {
          "model_module": "@jupyter-widgets/controls",
          "model_name": "DescriptionStyleModel",
          "model_module_version": "1.5.0",
          "state": {
            "_model_module": "@jupyter-widgets/controls",
            "_model_module_version": "1.5.0",
            "_model_name": "DescriptionStyleModel",
            "_view_count": null,
            "_view_module": "@jupyter-widgets/base",
            "_view_module_version": "1.2.0",
            "_view_name": "StyleView",
            "description_width": ""
          }
        }
      }
    }
  },
  "nbformat": 4,
  "nbformat_minor": 0
}